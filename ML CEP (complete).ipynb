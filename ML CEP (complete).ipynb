{
 "cells": [
  {
   "cell_type": "markdown",
   "id": "3e0fc5dc",
   "metadata": {},
   "source": [
    "Group Members:\n",
    "CS-20121 (Sibtain Ahmed),\n",
    "CS-20127 (Salman Ahmed),\n",
    "CS-20023 (Nooh Khan)"
   ]
  },
  {
   "cell_type": "markdown",
   "id": "77784904",
   "metadata": {},
   "source": [
    "# Importing Libraries"
   ]
  },
  {
   "cell_type": "code",
   "execution_count": 1,
   "id": "f25ace6a",
   "metadata": {},
   "outputs": [],
   "source": [
    "from sklearn.model_selection import train_test_split\n",
    "from sklearn.preprocessing import LabelEncoder\n",
    "from sklearn.preprocessing import StandardScaler\n",
    "from sklearn.metrics import classification_report,accuracy_score\n",
    "from sklearn.linear_model import LogisticRegression\n",
    "from sklearn.neighbors import KNeighborsClassifier\n",
    "from sklearn.model_selection import GridSearchCV\n",
    "from sklearn.ensemble import RandomForestClassifier\n",
    "import pandas as pd\n",
    "import numpy as np\n",
    "import matplotlib.pyplot as plt\n",
    "import seaborn as sns\n",
    "import warnings\n",
    "warnings.filterwarnings('ignore')\n",
    "import tensorflow as tf\n",
    "import os.path"
   ]
  },
  {
   "cell_type": "code",
   "execution_count": 2,
   "id": "e85e148c",
   "metadata": {},
   "outputs": [
    {
     "data": {
      "text/html": [
       "<div>\n",
       "<style scoped>\n",
       "    .dataframe tbody tr th:only-of-type {\n",
       "        vertical-align: middle;\n",
       "    }\n",
       "\n",
       "    .dataframe tbody tr th {\n",
       "        vertical-align: top;\n",
       "    }\n",
       "\n",
       "    .dataframe thead th {\n",
       "        text-align: right;\n",
       "    }\n",
       "</style>\n",
       "<table border=\"1\" class=\"dataframe\">\n",
       "  <thead>\n",
       "    <tr style=\"text-align: right;\">\n",
       "      <th></th>\n",
       "      <th>Formatted Date</th>\n",
       "      <th>Summary</th>\n",
       "      <th>Precip Type</th>\n",
       "      <th>Temperature (C)</th>\n",
       "      <th>Apparent Temperature (C)</th>\n",
       "      <th>Humidity</th>\n",
       "      <th>Wind Speed (km/h)</th>\n",
       "      <th>Wind Bearing (degrees)</th>\n",
       "      <th>Visibility (km)</th>\n",
       "      <th>Loud Cover</th>\n",
       "      <th>Pressure (millibars)</th>\n",
       "      <th>Daily Summary</th>\n",
       "    </tr>\n",
       "  </thead>\n",
       "  <tbody>\n",
       "    <tr>\n",
       "      <th>0</th>\n",
       "      <td>2006-04-01 00:00:00.000 +0200</td>\n",
       "      <td>Partly Cloudy</td>\n",
       "      <td>rain</td>\n",
       "      <td>9.472222</td>\n",
       "      <td>7.388889</td>\n",
       "      <td>0.89</td>\n",
       "      <td>14.1197</td>\n",
       "      <td>251.0</td>\n",
       "      <td>15.8263</td>\n",
       "      <td>0.0</td>\n",
       "      <td>1015.13</td>\n",
       "      <td>Partly cloudy throughout the day.</td>\n",
       "    </tr>\n",
       "    <tr>\n",
       "      <th>1</th>\n",
       "      <td>2006-04-01 01:00:00.000 +0200</td>\n",
       "      <td>Partly Cloudy</td>\n",
       "      <td>rain</td>\n",
       "      <td>9.355556</td>\n",
       "      <td>7.227778</td>\n",
       "      <td>0.86</td>\n",
       "      <td>14.2646</td>\n",
       "      <td>259.0</td>\n",
       "      <td>15.8263</td>\n",
       "      <td>0.0</td>\n",
       "      <td>1015.63</td>\n",
       "      <td>Partly cloudy throughout the day.</td>\n",
       "    </tr>\n",
       "    <tr>\n",
       "      <th>2</th>\n",
       "      <td>2006-04-01 02:00:00.000 +0200</td>\n",
       "      <td>Mostly Cloudy</td>\n",
       "      <td>rain</td>\n",
       "      <td>9.377778</td>\n",
       "      <td>9.377778</td>\n",
       "      <td>0.89</td>\n",
       "      <td>3.9284</td>\n",
       "      <td>204.0</td>\n",
       "      <td>14.9569</td>\n",
       "      <td>0.0</td>\n",
       "      <td>1015.94</td>\n",
       "      <td>Partly cloudy throughout the day.</td>\n",
       "    </tr>\n",
       "    <tr>\n",
       "      <th>3</th>\n",
       "      <td>2006-04-01 03:00:00.000 +0200</td>\n",
       "      <td>Partly Cloudy</td>\n",
       "      <td>rain</td>\n",
       "      <td>8.288889</td>\n",
       "      <td>5.944444</td>\n",
       "      <td>0.83</td>\n",
       "      <td>14.1036</td>\n",
       "      <td>269.0</td>\n",
       "      <td>15.8263</td>\n",
       "      <td>0.0</td>\n",
       "      <td>1016.41</td>\n",
       "      <td>Partly cloudy throughout the day.</td>\n",
       "    </tr>\n",
       "    <tr>\n",
       "      <th>4</th>\n",
       "      <td>2006-04-01 04:00:00.000 +0200</td>\n",
       "      <td>Mostly Cloudy</td>\n",
       "      <td>rain</td>\n",
       "      <td>8.755556</td>\n",
       "      <td>6.977778</td>\n",
       "      <td>0.83</td>\n",
       "      <td>11.0446</td>\n",
       "      <td>259.0</td>\n",
       "      <td>15.8263</td>\n",
       "      <td>0.0</td>\n",
       "      <td>1016.51</td>\n",
       "      <td>Partly cloudy throughout the day.</td>\n",
       "    </tr>\n",
       "    <tr>\n",
       "      <th>...</th>\n",
       "      <td>...</td>\n",
       "      <td>...</td>\n",
       "      <td>...</td>\n",
       "      <td>...</td>\n",
       "      <td>...</td>\n",
       "      <td>...</td>\n",
       "      <td>...</td>\n",
       "      <td>...</td>\n",
       "      <td>...</td>\n",
       "      <td>...</td>\n",
       "      <td>...</td>\n",
       "      <td>...</td>\n",
       "    </tr>\n",
       "    <tr>\n",
       "      <th>96448</th>\n",
       "      <td>2016-09-09 19:00:00.000 +0200</td>\n",
       "      <td>Partly Cloudy</td>\n",
       "      <td>rain</td>\n",
       "      <td>26.016667</td>\n",
       "      <td>26.016667</td>\n",
       "      <td>0.43</td>\n",
       "      <td>10.9963</td>\n",
       "      <td>31.0</td>\n",
       "      <td>16.1000</td>\n",
       "      <td>0.0</td>\n",
       "      <td>1014.36</td>\n",
       "      <td>Partly cloudy starting in the morning.</td>\n",
       "    </tr>\n",
       "    <tr>\n",
       "      <th>96449</th>\n",
       "      <td>2016-09-09 20:00:00.000 +0200</td>\n",
       "      <td>Partly Cloudy</td>\n",
       "      <td>rain</td>\n",
       "      <td>24.583333</td>\n",
       "      <td>24.583333</td>\n",
       "      <td>0.48</td>\n",
       "      <td>10.0947</td>\n",
       "      <td>20.0</td>\n",
       "      <td>15.5526</td>\n",
       "      <td>0.0</td>\n",
       "      <td>1015.16</td>\n",
       "      <td>Partly cloudy starting in the morning.</td>\n",
       "    </tr>\n",
       "    <tr>\n",
       "      <th>96450</th>\n",
       "      <td>2016-09-09 21:00:00.000 +0200</td>\n",
       "      <td>Partly Cloudy</td>\n",
       "      <td>rain</td>\n",
       "      <td>22.038889</td>\n",
       "      <td>22.038889</td>\n",
       "      <td>0.56</td>\n",
       "      <td>8.9838</td>\n",
       "      <td>30.0</td>\n",
       "      <td>16.1000</td>\n",
       "      <td>0.0</td>\n",
       "      <td>1015.66</td>\n",
       "      <td>Partly cloudy starting in the morning.</td>\n",
       "    </tr>\n",
       "    <tr>\n",
       "      <th>96451</th>\n",
       "      <td>2016-09-09 22:00:00.000 +0200</td>\n",
       "      <td>Partly Cloudy</td>\n",
       "      <td>rain</td>\n",
       "      <td>21.522222</td>\n",
       "      <td>21.522222</td>\n",
       "      <td>0.60</td>\n",
       "      <td>10.5294</td>\n",
       "      <td>20.0</td>\n",
       "      <td>16.1000</td>\n",
       "      <td>0.0</td>\n",
       "      <td>1015.95</td>\n",
       "      <td>Partly cloudy starting in the morning.</td>\n",
       "    </tr>\n",
       "    <tr>\n",
       "      <th>96452</th>\n",
       "      <td>2016-09-09 23:00:00.000 +0200</td>\n",
       "      <td>Partly Cloudy</td>\n",
       "      <td>rain</td>\n",
       "      <td>20.438889</td>\n",
       "      <td>20.438889</td>\n",
       "      <td>0.61</td>\n",
       "      <td>5.8765</td>\n",
       "      <td>39.0</td>\n",
       "      <td>15.5204</td>\n",
       "      <td>0.0</td>\n",
       "      <td>1016.16</td>\n",
       "      <td>Partly cloudy starting in the morning.</td>\n",
       "    </tr>\n",
       "  </tbody>\n",
       "</table>\n",
       "<p>96453 rows × 12 columns</p>\n",
       "</div>"
      ],
      "text/plain": [
       "                      Formatted Date        Summary Precip Type  \\\n",
       "0      2006-04-01 00:00:00.000 +0200  Partly Cloudy        rain   \n",
       "1      2006-04-01 01:00:00.000 +0200  Partly Cloudy        rain   \n",
       "2      2006-04-01 02:00:00.000 +0200  Mostly Cloudy        rain   \n",
       "3      2006-04-01 03:00:00.000 +0200  Partly Cloudy        rain   \n",
       "4      2006-04-01 04:00:00.000 +0200  Mostly Cloudy        rain   \n",
       "...                              ...            ...         ...   \n",
       "96448  2016-09-09 19:00:00.000 +0200  Partly Cloudy        rain   \n",
       "96449  2016-09-09 20:00:00.000 +0200  Partly Cloudy        rain   \n",
       "96450  2016-09-09 21:00:00.000 +0200  Partly Cloudy        rain   \n",
       "96451  2016-09-09 22:00:00.000 +0200  Partly Cloudy        rain   \n",
       "96452  2016-09-09 23:00:00.000 +0200  Partly Cloudy        rain   \n",
       "\n",
       "       Temperature (C)  Apparent Temperature (C)  Humidity  Wind Speed (km/h)  \\\n",
       "0             9.472222                  7.388889      0.89            14.1197   \n",
       "1             9.355556                  7.227778      0.86            14.2646   \n",
       "2             9.377778                  9.377778      0.89             3.9284   \n",
       "3             8.288889                  5.944444      0.83            14.1036   \n",
       "4             8.755556                  6.977778      0.83            11.0446   \n",
       "...                ...                       ...       ...                ...   \n",
       "96448        26.016667                 26.016667      0.43            10.9963   \n",
       "96449        24.583333                 24.583333      0.48            10.0947   \n",
       "96450        22.038889                 22.038889      0.56             8.9838   \n",
       "96451        21.522222                 21.522222      0.60            10.5294   \n",
       "96452        20.438889                 20.438889      0.61             5.8765   \n",
       "\n",
       "       Wind Bearing (degrees)  Visibility (km)  Loud Cover  \\\n",
       "0                       251.0          15.8263         0.0   \n",
       "1                       259.0          15.8263         0.0   \n",
       "2                       204.0          14.9569         0.0   \n",
       "3                       269.0          15.8263         0.0   \n",
       "4                       259.0          15.8263         0.0   \n",
       "...                       ...              ...         ...   \n",
       "96448                    31.0          16.1000         0.0   \n",
       "96449                    20.0          15.5526         0.0   \n",
       "96450                    30.0          16.1000         0.0   \n",
       "96451                    20.0          16.1000         0.0   \n",
       "96452                    39.0          15.5204         0.0   \n",
       "\n",
       "       Pressure (millibars)                           Daily Summary  \n",
       "0                   1015.13       Partly cloudy throughout the day.  \n",
       "1                   1015.63       Partly cloudy throughout the day.  \n",
       "2                   1015.94       Partly cloudy throughout the day.  \n",
       "3                   1016.41       Partly cloudy throughout the day.  \n",
       "4                   1016.51       Partly cloudy throughout the day.  \n",
       "...                     ...                                     ...  \n",
       "96448               1014.36  Partly cloudy starting in the morning.  \n",
       "96449               1015.16  Partly cloudy starting in the morning.  \n",
       "96450               1015.66  Partly cloudy starting in the morning.  \n",
       "96451               1015.95  Partly cloudy starting in the morning.  \n",
       "96452               1016.16  Partly cloudy starting in the morning.  \n",
       "\n",
       "[96453 rows x 12 columns]"
      ]
     },
     "execution_count": 2,
     "metadata": {},
     "output_type": "execute_result"
    }
   ],
   "source": [
    "# importing Dataset as ds\n",
    "df = pd.read_csv('weatherHistory.csv')\n",
    "df"
   ]
  },
  {
   "cell_type": "markdown",
   "id": "6b568bd2",
   "metadata": {},
   "source": [
    "# Exploring Dataset\n"
   ]
  },
  {
   "cell_type": "code",
   "execution_count": 3,
   "id": "a5267225",
   "metadata": {},
   "outputs": [
    {
     "data": {
      "text/html": [
       "<div>\n",
       "<style scoped>\n",
       "    .dataframe tbody tr th:only-of-type {\n",
       "        vertical-align: middle;\n",
       "    }\n",
       "\n",
       "    .dataframe tbody tr th {\n",
       "        vertical-align: top;\n",
       "    }\n",
       "\n",
       "    .dataframe thead th {\n",
       "        text-align: right;\n",
       "    }\n",
       "</style>\n",
       "<table border=\"1\" class=\"dataframe\">\n",
       "  <thead>\n",
       "    <tr style=\"text-align: right;\">\n",
       "      <th></th>\n",
       "      <th>Formatted Date</th>\n",
       "      <th>Summary</th>\n",
       "      <th>Precip Type</th>\n",
       "      <th>Temperature (C)</th>\n",
       "      <th>Apparent Temperature (C)</th>\n",
       "      <th>Humidity</th>\n",
       "      <th>Wind Speed (km/h)</th>\n",
       "      <th>Wind Bearing (degrees)</th>\n",
       "      <th>Visibility (km)</th>\n",
       "      <th>Loud Cover</th>\n",
       "      <th>Pressure (millibars)</th>\n",
       "      <th>Daily Summary</th>\n",
       "    </tr>\n",
       "  </thead>\n",
       "  <tbody>\n",
       "    <tr>\n",
       "      <th>0</th>\n",
       "      <td>2006-04-01 00:00:00.000 +0200</td>\n",
       "      <td>Partly Cloudy</td>\n",
       "      <td>rain</td>\n",
       "      <td>9.472222</td>\n",
       "      <td>7.388889</td>\n",
       "      <td>0.89</td>\n",
       "      <td>14.1197</td>\n",
       "      <td>251.0</td>\n",
       "      <td>15.8263</td>\n",
       "      <td>0.0</td>\n",
       "      <td>1015.13</td>\n",
       "      <td>Partly cloudy throughout the day.</td>\n",
       "    </tr>\n",
       "    <tr>\n",
       "      <th>1</th>\n",
       "      <td>2006-04-01 01:00:00.000 +0200</td>\n",
       "      <td>Partly Cloudy</td>\n",
       "      <td>rain</td>\n",
       "      <td>9.355556</td>\n",
       "      <td>7.227778</td>\n",
       "      <td>0.86</td>\n",
       "      <td>14.2646</td>\n",
       "      <td>259.0</td>\n",
       "      <td>15.8263</td>\n",
       "      <td>0.0</td>\n",
       "      <td>1015.63</td>\n",
       "      <td>Partly cloudy throughout the day.</td>\n",
       "    </tr>\n",
       "    <tr>\n",
       "      <th>2</th>\n",
       "      <td>2006-04-01 02:00:00.000 +0200</td>\n",
       "      <td>Mostly Cloudy</td>\n",
       "      <td>rain</td>\n",
       "      <td>9.377778</td>\n",
       "      <td>9.377778</td>\n",
       "      <td>0.89</td>\n",
       "      <td>3.9284</td>\n",
       "      <td>204.0</td>\n",
       "      <td>14.9569</td>\n",
       "      <td>0.0</td>\n",
       "      <td>1015.94</td>\n",
       "      <td>Partly cloudy throughout the day.</td>\n",
       "    </tr>\n",
       "    <tr>\n",
       "      <th>3</th>\n",
       "      <td>2006-04-01 03:00:00.000 +0200</td>\n",
       "      <td>Partly Cloudy</td>\n",
       "      <td>rain</td>\n",
       "      <td>8.288889</td>\n",
       "      <td>5.944444</td>\n",
       "      <td>0.83</td>\n",
       "      <td>14.1036</td>\n",
       "      <td>269.0</td>\n",
       "      <td>15.8263</td>\n",
       "      <td>0.0</td>\n",
       "      <td>1016.41</td>\n",
       "      <td>Partly cloudy throughout the day.</td>\n",
       "    </tr>\n",
       "    <tr>\n",
       "      <th>4</th>\n",
       "      <td>2006-04-01 04:00:00.000 +0200</td>\n",
       "      <td>Mostly Cloudy</td>\n",
       "      <td>rain</td>\n",
       "      <td>8.755556</td>\n",
       "      <td>6.977778</td>\n",
       "      <td>0.83</td>\n",
       "      <td>11.0446</td>\n",
       "      <td>259.0</td>\n",
       "      <td>15.8263</td>\n",
       "      <td>0.0</td>\n",
       "      <td>1016.51</td>\n",
       "      <td>Partly cloudy throughout the day.</td>\n",
       "    </tr>\n",
       "  </tbody>\n",
       "</table>\n",
       "</div>"
      ],
      "text/plain": [
       "                  Formatted Date        Summary Precip Type  Temperature (C)  \\\n",
       "0  2006-04-01 00:00:00.000 +0200  Partly Cloudy        rain         9.472222   \n",
       "1  2006-04-01 01:00:00.000 +0200  Partly Cloudy        rain         9.355556   \n",
       "2  2006-04-01 02:00:00.000 +0200  Mostly Cloudy        rain         9.377778   \n",
       "3  2006-04-01 03:00:00.000 +0200  Partly Cloudy        rain         8.288889   \n",
       "4  2006-04-01 04:00:00.000 +0200  Mostly Cloudy        rain         8.755556   \n",
       "\n",
       "   Apparent Temperature (C)  Humidity  Wind Speed (km/h)  \\\n",
       "0                  7.388889      0.89            14.1197   \n",
       "1                  7.227778      0.86            14.2646   \n",
       "2                  9.377778      0.89             3.9284   \n",
       "3                  5.944444      0.83            14.1036   \n",
       "4                  6.977778      0.83            11.0446   \n",
       "\n",
       "   Wind Bearing (degrees)  Visibility (km)  Loud Cover  Pressure (millibars)  \\\n",
       "0                   251.0          15.8263         0.0               1015.13   \n",
       "1                   259.0          15.8263         0.0               1015.63   \n",
       "2                   204.0          14.9569         0.0               1015.94   \n",
       "3                   269.0          15.8263         0.0               1016.41   \n",
       "4                   259.0          15.8263         0.0               1016.51   \n",
       "\n",
       "                       Daily Summary  \n",
       "0  Partly cloudy throughout the day.  \n",
       "1  Partly cloudy throughout the day.  \n",
       "2  Partly cloudy throughout the day.  \n",
       "3  Partly cloudy throughout the day.  \n",
       "4  Partly cloudy throughout the day.  "
      ]
     },
     "execution_count": 3,
     "metadata": {},
     "output_type": "execute_result"
    }
   ],
   "source": [
    "df.head()"
   ]
  },
  {
   "cell_type": "code",
   "execution_count": 4,
   "id": "8f13b725",
   "metadata": {},
   "outputs": [
    {
     "data": {
      "text/plain": [
       "(96453, 12)"
      ]
     },
     "execution_count": 4,
     "metadata": {},
     "output_type": "execute_result"
    }
   ],
   "source": [
    "df.shape"
   ]
  },
  {
   "cell_type": "code",
   "execution_count": 5,
   "id": "0c67294c",
   "metadata": {},
   "outputs": [
    {
     "data": {
      "text/plain": [
       "Formatted Date                0\n",
       "Summary                       0\n",
       "Precip Type                 517\n",
       "Temperature (C)               0\n",
       "Apparent Temperature (C)      0\n",
       "Humidity                      0\n",
       "Wind Speed (km/h)             0\n",
       "Wind Bearing (degrees)        0\n",
       "Visibility (km)               0\n",
       "Loud Cover                    0\n",
       "Pressure (millibars)          0\n",
       "Daily Summary                 0\n",
       "dtype: int64"
      ]
     },
     "execution_count": 5,
     "metadata": {},
     "output_type": "execute_result"
    }
   ],
   "source": [
    "df.isnull().sum()"
   ]
  },
  {
   "cell_type": "code",
   "execution_count": 6,
   "id": "4ac11496",
   "metadata": {},
   "outputs": [
    {
     "data": {
      "text/html": [
       "<div>\n",
       "<style scoped>\n",
       "    .dataframe tbody tr th:only-of-type {\n",
       "        vertical-align: middle;\n",
       "    }\n",
       "\n",
       "    .dataframe tbody tr th {\n",
       "        vertical-align: top;\n",
       "    }\n",
       "\n",
       "    .dataframe thead th {\n",
       "        text-align: right;\n",
       "    }\n",
       "</style>\n",
       "<table border=\"1\" class=\"dataframe\">\n",
       "  <thead>\n",
       "    <tr style=\"text-align: right;\">\n",
       "      <th></th>\n",
       "      <th>Temperature (C)</th>\n",
       "      <th>Apparent Temperature (C)</th>\n",
       "      <th>Humidity</th>\n",
       "      <th>Wind Speed (km/h)</th>\n",
       "      <th>Wind Bearing (degrees)</th>\n",
       "      <th>Visibility (km)</th>\n",
       "      <th>Loud Cover</th>\n",
       "      <th>Pressure (millibars)</th>\n",
       "    </tr>\n",
       "  </thead>\n",
       "  <tbody>\n",
       "    <tr>\n",
       "      <th>count</th>\n",
       "      <td>96453.000000</td>\n",
       "      <td>96453.000000</td>\n",
       "      <td>96453.000000</td>\n",
       "      <td>96453.000000</td>\n",
       "      <td>96453.000000</td>\n",
       "      <td>96453.000000</td>\n",
       "      <td>96453.0</td>\n",
       "      <td>96453.000000</td>\n",
       "    </tr>\n",
       "    <tr>\n",
       "      <th>mean</th>\n",
       "      <td>11.932678</td>\n",
       "      <td>10.855029</td>\n",
       "      <td>0.734899</td>\n",
       "      <td>10.810640</td>\n",
       "      <td>187.509232</td>\n",
       "      <td>10.347325</td>\n",
       "      <td>0.0</td>\n",
       "      <td>1003.235956</td>\n",
       "    </tr>\n",
       "    <tr>\n",
       "      <th>std</th>\n",
       "      <td>9.551546</td>\n",
       "      <td>10.696847</td>\n",
       "      <td>0.195473</td>\n",
       "      <td>6.913571</td>\n",
       "      <td>107.383428</td>\n",
       "      <td>4.192123</td>\n",
       "      <td>0.0</td>\n",
       "      <td>116.969906</td>\n",
       "    </tr>\n",
       "    <tr>\n",
       "      <th>min</th>\n",
       "      <td>-21.822222</td>\n",
       "      <td>-27.716667</td>\n",
       "      <td>0.000000</td>\n",
       "      <td>0.000000</td>\n",
       "      <td>0.000000</td>\n",
       "      <td>0.000000</td>\n",
       "      <td>0.0</td>\n",
       "      <td>0.000000</td>\n",
       "    </tr>\n",
       "    <tr>\n",
       "      <th>25%</th>\n",
       "      <td>4.688889</td>\n",
       "      <td>2.311111</td>\n",
       "      <td>0.600000</td>\n",
       "      <td>5.828200</td>\n",
       "      <td>116.000000</td>\n",
       "      <td>8.339800</td>\n",
       "      <td>0.0</td>\n",
       "      <td>1011.900000</td>\n",
       "    </tr>\n",
       "    <tr>\n",
       "      <th>50%</th>\n",
       "      <td>12.000000</td>\n",
       "      <td>12.000000</td>\n",
       "      <td>0.780000</td>\n",
       "      <td>9.965900</td>\n",
       "      <td>180.000000</td>\n",
       "      <td>10.046400</td>\n",
       "      <td>0.0</td>\n",
       "      <td>1016.450000</td>\n",
       "    </tr>\n",
       "    <tr>\n",
       "      <th>75%</th>\n",
       "      <td>18.838889</td>\n",
       "      <td>18.838889</td>\n",
       "      <td>0.890000</td>\n",
       "      <td>14.135800</td>\n",
       "      <td>290.000000</td>\n",
       "      <td>14.812000</td>\n",
       "      <td>0.0</td>\n",
       "      <td>1021.090000</td>\n",
       "    </tr>\n",
       "    <tr>\n",
       "      <th>max</th>\n",
       "      <td>39.905556</td>\n",
       "      <td>39.344444</td>\n",
       "      <td>1.000000</td>\n",
       "      <td>63.852600</td>\n",
       "      <td>359.000000</td>\n",
       "      <td>16.100000</td>\n",
       "      <td>0.0</td>\n",
       "      <td>1046.380000</td>\n",
       "    </tr>\n",
       "  </tbody>\n",
       "</table>\n",
       "</div>"
      ],
      "text/plain": [
       "       Temperature (C)  Apparent Temperature (C)      Humidity  \\\n",
       "count     96453.000000              96453.000000  96453.000000   \n",
       "mean         11.932678                 10.855029      0.734899   \n",
       "std           9.551546                 10.696847      0.195473   \n",
       "min         -21.822222                -27.716667      0.000000   \n",
       "25%           4.688889                  2.311111      0.600000   \n",
       "50%          12.000000                 12.000000      0.780000   \n",
       "75%          18.838889                 18.838889      0.890000   \n",
       "max          39.905556                 39.344444      1.000000   \n",
       "\n",
       "       Wind Speed (km/h)  Wind Bearing (degrees)  Visibility (km)  Loud Cover  \\\n",
       "count       96453.000000            96453.000000     96453.000000     96453.0   \n",
       "mean           10.810640              187.509232        10.347325         0.0   \n",
       "std             6.913571              107.383428         4.192123         0.0   \n",
       "min             0.000000                0.000000         0.000000         0.0   \n",
       "25%             5.828200              116.000000         8.339800         0.0   \n",
       "50%             9.965900              180.000000        10.046400         0.0   \n",
       "75%            14.135800              290.000000        14.812000         0.0   \n",
       "max            63.852600              359.000000        16.100000         0.0   \n",
       "\n",
       "       Pressure (millibars)  \n",
       "count          96453.000000  \n",
       "mean            1003.235956  \n",
       "std              116.969906  \n",
       "min                0.000000  \n",
       "25%             1011.900000  \n",
       "50%             1016.450000  \n",
       "75%             1021.090000  \n",
       "max             1046.380000  "
      ]
     },
     "execution_count": 6,
     "metadata": {},
     "output_type": "execute_result"
    }
   ],
   "source": [
    "df.describe()"
   ]
  },
  {
   "cell_type": "code",
   "execution_count": 7,
   "id": "05808d7e",
   "metadata": {},
   "outputs": [
    {
     "data": {
      "text/html": [
       "<div>\n",
       "<style scoped>\n",
       "    .dataframe tbody tr th:only-of-type {\n",
       "        vertical-align: middle;\n",
       "    }\n",
       "\n",
       "    .dataframe tbody tr th {\n",
       "        vertical-align: top;\n",
       "    }\n",
       "\n",
       "    .dataframe thead th {\n",
       "        text-align: right;\n",
       "    }\n",
       "</style>\n",
       "<table border=\"1\" class=\"dataframe\">\n",
       "  <thead>\n",
       "    <tr style=\"text-align: right;\">\n",
       "      <th></th>\n",
       "      <th>Temperature (C)</th>\n",
       "      <th>Apparent Temperature (C)</th>\n",
       "      <th>Humidity</th>\n",
       "      <th>Wind Speed (km/h)</th>\n",
       "      <th>Wind Bearing (degrees)</th>\n",
       "      <th>Visibility (km)</th>\n",
       "      <th>Loud Cover</th>\n",
       "      <th>Pressure (millibars)</th>\n",
       "    </tr>\n",
       "  </thead>\n",
       "  <tbody>\n",
       "    <tr>\n",
       "      <th>Temperature (C)</th>\n",
       "      <td>1.000000</td>\n",
       "      <td>0.992629</td>\n",
       "      <td>-0.632255</td>\n",
       "      <td>0.008957</td>\n",
       "      <td>0.029988</td>\n",
       "      <td>0.392847</td>\n",
       "      <td>NaN</td>\n",
       "      <td>-0.005447</td>\n",
       "    </tr>\n",
       "    <tr>\n",
       "      <th>Apparent Temperature (C)</th>\n",
       "      <td>0.992629</td>\n",
       "      <td>1.000000</td>\n",
       "      <td>-0.602571</td>\n",
       "      <td>-0.056650</td>\n",
       "      <td>0.029031</td>\n",
       "      <td>0.381718</td>\n",
       "      <td>NaN</td>\n",
       "      <td>-0.000219</td>\n",
       "    </tr>\n",
       "    <tr>\n",
       "      <th>Humidity</th>\n",
       "      <td>-0.632255</td>\n",
       "      <td>-0.602571</td>\n",
       "      <td>1.000000</td>\n",
       "      <td>-0.224951</td>\n",
       "      <td>0.000735</td>\n",
       "      <td>-0.369173</td>\n",
       "      <td>NaN</td>\n",
       "      <td>0.005454</td>\n",
       "    </tr>\n",
       "    <tr>\n",
       "      <th>Wind Speed (km/h)</th>\n",
       "      <td>0.008957</td>\n",
       "      <td>-0.056650</td>\n",
       "      <td>-0.224951</td>\n",
       "      <td>1.000000</td>\n",
       "      <td>0.103822</td>\n",
       "      <td>0.100749</td>\n",
       "      <td>NaN</td>\n",
       "      <td>-0.049263</td>\n",
       "    </tr>\n",
       "    <tr>\n",
       "      <th>Wind Bearing (degrees)</th>\n",
       "      <td>0.029988</td>\n",
       "      <td>0.029031</td>\n",
       "      <td>0.000735</td>\n",
       "      <td>0.103822</td>\n",
       "      <td>1.000000</td>\n",
       "      <td>0.047594</td>\n",
       "      <td>NaN</td>\n",
       "      <td>-0.011651</td>\n",
       "    </tr>\n",
       "    <tr>\n",
       "      <th>Visibility (km)</th>\n",
       "      <td>0.392847</td>\n",
       "      <td>0.381718</td>\n",
       "      <td>-0.369173</td>\n",
       "      <td>0.100749</td>\n",
       "      <td>0.047594</td>\n",
       "      <td>1.000000</td>\n",
       "      <td>NaN</td>\n",
       "      <td>0.059818</td>\n",
       "    </tr>\n",
       "    <tr>\n",
       "      <th>Loud Cover</th>\n",
       "      <td>NaN</td>\n",
       "      <td>NaN</td>\n",
       "      <td>NaN</td>\n",
       "      <td>NaN</td>\n",
       "      <td>NaN</td>\n",
       "      <td>NaN</td>\n",
       "      <td>NaN</td>\n",
       "      <td>NaN</td>\n",
       "    </tr>\n",
       "    <tr>\n",
       "      <th>Pressure (millibars)</th>\n",
       "      <td>-0.005447</td>\n",
       "      <td>-0.000219</td>\n",
       "      <td>0.005454</td>\n",
       "      <td>-0.049263</td>\n",
       "      <td>-0.011651</td>\n",
       "      <td>0.059818</td>\n",
       "      <td>NaN</td>\n",
       "      <td>1.000000</td>\n",
       "    </tr>\n",
       "  </tbody>\n",
       "</table>\n",
       "</div>"
      ],
      "text/plain": [
       "                          Temperature (C)  Apparent Temperature (C)  Humidity  \\\n",
       "Temperature (C)                  1.000000                  0.992629 -0.632255   \n",
       "Apparent Temperature (C)         0.992629                  1.000000 -0.602571   \n",
       "Humidity                        -0.632255                 -0.602571  1.000000   \n",
       "Wind Speed (km/h)                0.008957                 -0.056650 -0.224951   \n",
       "Wind Bearing (degrees)           0.029988                  0.029031  0.000735   \n",
       "Visibility (km)                  0.392847                  0.381718 -0.369173   \n",
       "Loud Cover                            NaN                       NaN       NaN   \n",
       "Pressure (millibars)            -0.005447                 -0.000219  0.005454   \n",
       "\n",
       "                          Wind Speed (km/h)  Wind Bearing (degrees)  \\\n",
       "Temperature (C)                    0.008957                0.029988   \n",
       "Apparent Temperature (C)          -0.056650                0.029031   \n",
       "Humidity                          -0.224951                0.000735   \n",
       "Wind Speed (km/h)                  1.000000                0.103822   \n",
       "Wind Bearing (degrees)             0.103822                1.000000   \n",
       "Visibility (km)                    0.100749                0.047594   \n",
       "Loud Cover                              NaN                     NaN   \n",
       "Pressure (millibars)              -0.049263               -0.011651   \n",
       "\n",
       "                          Visibility (km)  Loud Cover  Pressure (millibars)  \n",
       "Temperature (C)                  0.392847         NaN             -0.005447  \n",
       "Apparent Temperature (C)         0.381718         NaN             -0.000219  \n",
       "Humidity                        -0.369173         NaN              0.005454  \n",
       "Wind Speed (km/h)                0.100749         NaN             -0.049263  \n",
       "Wind Bearing (degrees)           0.047594         NaN             -0.011651  \n",
       "Visibility (km)                  1.000000         NaN              0.059818  \n",
       "Loud Cover                            NaN         NaN                   NaN  \n",
       "Pressure (millibars)             0.059818         NaN              1.000000  "
      ]
     },
     "execution_count": 7,
     "metadata": {},
     "output_type": "execute_result"
    }
   ],
   "source": [
    "df.corr()"
   ]
  },
  {
   "cell_type": "code",
   "execution_count": 8,
   "id": "f318b709",
   "metadata": {},
   "outputs": [
    {
     "name": "stdout",
     "output_type": "stream",
     "text": [
      "<class 'pandas.core.frame.DataFrame'>\n",
      "RangeIndex: 96453 entries, 0 to 96452\n",
      "Data columns (total 12 columns):\n",
      " #   Column                    Non-Null Count  Dtype  \n",
      "---  ------                    --------------  -----  \n",
      " 0   Formatted Date            96453 non-null  object \n",
      " 1   Summary                   96453 non-null  object \n",
      " 2   Precip Type               95936 non-null  object \n",
      " 3   Temperature (C)           96453 non-null  float64\n",
      " 4   Apparent Temperature (C)  96453 non-null  float64\n",
      " 5   Humidity                  96453 non-null  float64\n",
      " 6   Wind Speed (km/h)         96453 non-null  float64\n",
      " 7   Wind Bearing (degrees)    96453 non-null  float64\n",
      " 8   Visibility (km)           96453 non-null  float64\n",
      " 9   Loud Cover                96453 non-null  float64\n",
      " 10  Pressure (millibars)      96453 non-null  float64\n",
      " 11  Daily Summary             96453 non-null  object \n",
      "dtypes: float64(8), object(4)\n",
      "memory usage: 8.8+ MB\n"
     ]
    }
   ],
   "source": [
    "df.info()"
   ]
  },
  {
   "cell_type": "code",
   "execution_count": 9,
   "id": "a0c59f14",
   "metadata": {
    "scrolled": true
   },
   "outputs": [
    {
     "data": {
      "image/png": "[encoded data removed]",
      "text/plain": [
       "<Figure size 640x480 with 1 Axes>"
      ]
     },
     "metadata": {},
     "output_type": "display_data"
    }
   ],
   "source": [
    "# shows high collinearity btw Temperature & Apparent Temperature (same we can see in histogram below)\n",
    "df.plot(kind=\"scatter\",x='Temperature (C)',y='Apparent Temperature (C)')\n",
    "plt.show()"
   ]
  },
  {
   "cell_type": "code",
   "execution_count": 10,
   "id": "86edbc35",
   "metadata": {
    "scrolled": true
   },
   "outputs": [
    {
     "data": {
      "image/png": "[encoded data removed]",
      "text/plain": [
       "<Figure size 2000x1000 with 9 Axes>"
      ]
     },
     "metadata": {},
     "output_type": "display_data"
    }
   ],
   "source": [
    "df.hist(bins=40,figsize=(20,10))\n",
    "plt.show()"
   ]
  },
  {
   "cell_type": "markdown",
   "id": "75ac3904",
   "metadata": {},
   "source": [
    "# Feature Selection"
   ]
  },
  {
   "cell_type": "code",
   "execution_count": 11,
   "id": "ab9ad5b7",
   "metadata": {},
   "outputs": [],
   "source": [
    "# Droping Column 'Loud Cover' because it contains only ZEROES (refer ds.describe table)\n",
    "df.drop('Loud Cover', inplace=True , axis=1)"
   ]
  },
  {
   "cell_type": "code",
   "execution_count": 12,
   "id": "7a3375a0",
   "metadata": {},
   "outputs": [
    {
     "data": {
      "text/html": [
       "<div>\n",
       "<style scoped>\n",
       "    .dataframe tbody tr th:only-of-type {\n",
       "        vertical-align: middle;\n",
       "    }\n",
       "\n",
       "    .dataframe tbody tr th {\n",
       "        vertical-align: top;\n",
       "    }\n",
       "\n",
       "    .dataframe thead th {\n",
       "        text-align: right;\n",
       "    }\n",
       "</style>\n",
       "<table border=\"1\" class=\"dataframe\">\n",
       "  <thead>\n",
       "    <tr style=\"text-align: right;\">\n",
       "      <th></th>\n",
       "      <th>Summary</th>\n",
       "      <th>Precip Type</th>\n",
       "      <th>Temperature (C)</th>\n",
       "      <th>Apparent Temperature (C)</th>\n",
       "      <th>Humidity</th>\n",
       "      <th>Wind Speed (km/h)</th>\n",
       "      <th>Wind Bearing (degrees)</th>\n",
       "      <th>Visibility (km)</th>\n",
       "      <th>Pressure (millibars)</th>\n",
       "      <th>Daily Summary</th>\n",
       "    </tr>\n",
       "  </thead>\n",
       "  <tbody>\n",
       "    <tr>\n",
       "      <th>0</th>\n",
       "      <td>Partly Cloudy</td>\n",
       "      <td>rain</td>\n",
       "      <td>9.472222</td>\n",
       "      <td>7.388889</td>\n",
       "      <td>0.89</td>\n",
       "      <td>14.1197</td>\n",
       "      <td>251.0</td>\n",
       "      <td>15.8263</td>\n",
       "      <td>1015.13</td>\n",
       "      <td>Partly cloudy throughout the day.</td>\n",
       "    </tr>\n",
       "    <tr>\n",
       "      <th>1</th>\n",
       "      <td>Partly Cloudy</td>\n",
       "      <td>rain</td>\n",
       "      <td>9.355556</td>\n",
       "      <td>7.227778</td>\n",
       "      <td>0.86</td>\n",
       "      <td>14.2646</td>\n",
       "      <td>259.0</td>\n",
       "      <td>15.8263</td>\n",
       "      <td>1015.63</td>\n",
       "      <td>Partly cloudy throughout the day.</td>\n",
       "    </tr>\n",
       "    <tr>\n",
       "      <th>2</th>\n",
       "      <td>Mostly Cloudy</td>\n",
       "      <td>rain</td>\n",
       "      <td>9.377778</td>\n",
       "      <td>9.377778</td>\n",
       "      <td>0.89</td>\n",
       "      <td>3.9284</td>\n",
       "      <td>204.0</td>\n",
       "      <td>14.9569</td>\n",
       "      <td>1015.94</td>\n",
       "      <td>Partly cloudy throughout the day.</td>\n",
       "    </tr>\n",
       "    <tr>\n",
       "      <th>3</th>\n",
       "      <td>Partly Cloudy</td>\n",
       "      <td>rain</td>\n",
       "      <td>8.288889</td>\n",
       "      <td>5.944444</td>\n",
       "      <td>0.83</td>\n",
       "      <td>14.1036</td>\n",
       "      <td>269.0</td>\n",
       "      <td>15.8263</td>\n",
       "      <td>1016.41</td>\n",
       "      <td>Partly cloudy throughout the day.</td>\n",
       "    </tr>\n",
       "    <tr>\n",
       "      <th>4</th>\n",
       "      <td>Mostly Cloudy</td>\n",
       "      <td>rain</td>\n",
       "      <td>8.755556</td>\n",
       "      <td>6.977778</td>\n",
       "      <td>0.83</td>\n",
       "      <td>11.0446</td>\n",
       "      <td>259.0</td>\n",
       "      <td>15.8263</td>\n",
       "      <td>1016.51</td>\n",
       "      <td>Partly cloudy throughout the day.</td>\n",
       "    </tr>\n",
       "  </tbody>\n",
       "</table>\n",
       "</div>"
      ],
      "text/plain": [
       "         Summary Precip Type  Temperature (C)  Apparent Temperature (C)  \\\n",
       "0  Partly Cloudy        rain         9.472222                  7.388889   \n",
       "1  Partly Cloudy        rain         9.355556                  7.227778   \n",
       "2  Mostly Cloudy        rain         9.377778                  9.377778   \n",
       "3  Partly Cloudy        rain         8.288889                  5.944444   \n",
       "4  Mostly Cloudy        rain         8.755556                  6.977778   \n",
       "\n",
       "   Humidity  Wind Speed (km/h)  Wind Bearing (degrees)  Visibility (km)  \\\n",
       "0      0.89            14.1197                   251.0          15.8263   \n",
       "1      0.86            14.2646                   259.0          15.8263   \n",
       "2      0.89             3.9284                   204.0          14.9569   \n",
       "3      0.83            14.1036                   269.0          15.8263   \n",
       "4      0.83            11.0446                   259.0          15.8263   \n",
       "\n",
       "   Pressure (millibars)                      Daily Summary  \n",
       "0               1015.13  Partly cloudy throughout the day.  \n",
       "1               1015.63  Partly cloudy throughout the day.  \n",
       "2               1015.94  Partly cloudy throughout the day.  \n",
       "3               1016.41  Partly cloudy throughout the day.  \n",
       "4               1016.51  Partly cloudy throughout the day.  "
      ]
     },
     "execution_count": 12,
     "metadata": {},
     "output_type": "execute_result"
    }
   ],
   "source": [
    "# Droping Column 'Formatted Date' because it is nothing to do with 'Summary'\n",
    "df.drop('Formatted Date', inplace=True , axis=1)\n",
    "df.head()"
   ]
  },
  {
   "cell_type": "code",
   "execution_count": 13,
   "id": "8b4c70de",
   "metadata": {},
   "outputs": [
    {
     "data": {
      "text/html": [
       "<div>\n",
       "<style scoped>\n",
       "    .dataframe tbody tr th:only-of-type {\n",
       "        vertical-align: middle;\n",
       "    }\n",
       "\n",
       "    .dataframe tbody tr th {\n",
       "        vertical-align: top;\n",
       "    }\n",
       "\n",
       "    .dataframe thead th {\n",
       "        text-align: right;\n",
       "    }\n",
       "</style>\n",
       "<table border=\"1\" class=\"dataframe\">\n",
       "  <thead>\n",
       "    <tr style=\"text-align: right;\">\n",
       "      <th></th>\n",
       "      <th>Summary</th>\n",
       "      <th>Precip Type</th>\n",
       "      <th>Temperature (C)</th>\n",
       "      <th>Humidity</th>\n",
       "      <th>Wind Speed (km/h)</th>\n",
       "      <th>Wind Bearing (degrees)</th>\n",
       "      <th>Visibility (km)</th>\n",
       "      <th>Pressure (millibars)</th>\n",
       "      <th>Daily Summary</th>\n",
       "    </tr>\n",
       "  </thead>\n",
       "  <tbody>\n",
       "    <tr>\n",
       "      <th>0</th>\n",
       "      <td>Partly Cloudy</td>\n",
       "      <td>rain</td>\n",
       "      <td>9.472222</td>\n",
       "      <td>0.89</td>\n",
       "      <td>14.1197</td>\n",
       "      <td>251.0</td>\n",
       "      <td>15.8263</td>\n",
       "      <td>1015.13</td>\n",
       "      <td>Partly cloudy throughout the day.</td>\n",
       "    </tr>\n",
       "    <tr>\n",
       "      <th>1</th>\n",
       "      <td>Partly Cloudy</td>\n",
       "      <td>rain</td>\n",
       "      <td>9.355556</td>\n",
       "      <td>0.86</td>\n",
       "      <td>14.2646</td>\n",
       "      <td>259.0</td>\n",
       "      <td>15.8263</td>\n",
       "      <td>1015.63</td>\n",
       "      <td>Partly cloudy throughout the day.</td>\n",
       "    </tr>\n",
       "    <tr>\n",
       "      <th>2</th>\n",
       "      <td>Mostly Cloudy</td>\n",
       "      <td>rain</td>\n",
       "      <td>9.377778</td>\n",
       "      <td>0.89</td>\n",
       "      <td>3.9284</td>\n",
       "      <td>204.0</td>\n",
       "      <td>14.9569</td>\n",
       "      <td>1015.94</td>\n",
       "      <td>Partly cloudy throughout the day.</td>\n",
       "    </tr>\n",
       "    <tr>\n",
       "      <th>3</th>\n",
       "      <td>Partly Cloudy</td>\n",
       "      <td>rain</td>\n",
       "      <td>8.288889</td>\n",
       "      <td>0.83</td>\n",
       "      <td>14.1036</td>\n",
       "      <td>269.0</td>\n",
       "      <td>15.8263</td>\n",
       "      <td>1016.41</td>\n",
       "      <td>Partly cloudy throughout the day.</td>\n",
       "    </tr>\n",
       "    <tr>\n",
       "      <th>4</th>\n",
       "      <td>Mostly Cloudy</td>\n",
       "      <td>rain</td>\n",
       "      <td>8.755556</td>\n",
       "      <td>0.83</td>\n",
       "      <td>11.0446</td>\n",
       "      <td>259.0</td>\n",
       "      <td>15.8263</td>\n",
       "      <td>1016.51</td>\n",
       "      <td>Partly cloudy throughout the day.</td>\n",
       "    </tr>\n",
       "  </tbody>\n",
       "</table>\n",
       "</div>"
      ],
      "text/plain": [
       "         Summary Precip Type  Temperature (C)  Humidity  Wind Speed (km/h)  \\\n",
       "0  Partly Cloudy        rain         9.472222      0.89            14.1197   \n",
       "1  Partly Cloudy        rain         9.355556      0.86            14.2646   \n",
       "2  Mostly Cloudy        rain         9.377778      0.89             3.9284   \n",
       "3  Partly Cloudy        rain         8.288889      0.83            14.1036   \n",
       "4  Mostly Cloudy        rain         8.755556      0.83            11.0446   \n",
       "\n",
       "   Wind Bearing (degrees)  Visibility (km)  Pressure (millibars)  \\\n",
       "0                   251.0          15.8263               1015.13   \n",
       "1                   259.0          15.8263               1015.63   \n",
       "2                   204.0          14.9569               1015.94   \n",
       "3                   269.0          15.8263               1016.41   \n",
       "4                   259.0          15.8263               1016.51   \n",
       "\n",
       "                       Daily Summary  \n",
       "0  Partly cloudy throughout the day.  \n",
       "1  Partly cloudy throughout the day.  \n",
       "2  Partly cloudy throughout the day.  \n",
       "3  Partly cloudy throughout the day.  \n",
       "4  Partly cloudy throughout the day.  "
      ]
     },
     "execution_count": 13,
     "metadata": {},
     "output_type": "execute_result"
    }
   ],
   "source": [
    "# Dropping Column 'Apparent Temperature' b/c of high collinearity btw Temperature & Apparent Temperature\n",
    "df.drop('Apparent Temperature (C)', inplace=True , axis = 1)\n",
    "df.head()"
   ]
  },
  {
   "cell_type": "code",
   "execution_count": 14,
   "id": "2a80d6a7",
   "metadata": {},
   "outputs": [
    {
     "data": {
      "text/html": [
       "<div>\n",
       "<style scoped>\n",
       "    .dataframe tbody tr th:only-of-type {\n",
       "        vertical-align: middle;\n",
       "    }\n",
       "\n",
       "    .dataframe tbody tr th {\n",
       "        vertical-align: top;\n",
       "    }\n",
       "\n",
       "    .dataframe thead th {\n",
       "        text-align: right;\n",
       "    }\n",
       "</style>\n",
       "<table border=\"1\" class=\"dataframe\">\n",
       "  <thead>\n",
       "    <tr style=\"text-align: right;\">\n",
       "      <th></th>\n",
       "      <th>Summary</th>\n",
       "      <th>Precip Type</th>\n",
       "      <th>Temperature (C)</th>\n",
       "      <th>Humidity</th>\n",
       "      <th>Wind Speed (km/h)</th>\n",
       "      <th>Wind Bearing (degrees)</th>\n",
       "      <th>Visibility (km)</th>\n",
       "      <th>Pressure (millibars)</th>\n",
       "    </tr>\n",
       "  </thead>\n",
       "  <tbody>\n",
       "    <tr>\n",
       "      <th>0</th>\n",
       "      <td>Partly Cloudy</td>\n",
       "      <td>rain</td>\n",
       "      <td>9.472222</td>\n",
       "      <td>0.89</td>\n",
       "      <td>14.1197</td>\n",
       "      <td>251.0</td>\n",
       "      <td>15.8263</td>\n",
       "      <td>1015.13</td>\n",
       "    </tr>\n",
       "    <tr>\n",
       "      <th>1</th>\n",
       "      <td>Partly Cloudy</td>\n",
       "      <td>rain</td>\n",
       "      <td>9.355556</td>\n",
       "      <td>0.86</td>\n",
       "      <td>14.2646</td>\n",
       "      <td>259.0</td>\n",
       "      <td>15.8263</td>\n",
       "      <td>1015.63</td>\n",
       "    </tr>\n",
       "    <tr>\n",
       "      <th>2</th>\n",
       "      <td>Mostly Cloudy</td>\n",
       "      <td>rain</td>\n",
       "      <td>9.377778</td>\n",
       "      <td>0.89</td>\n",
       "      <td>3.9284</td>\n",
       "      <td>204.0</td>\n",
       "      <td>14.9569</td>\n",
       "      <td>1015.94</td>\n",
       "    </tr>\n",
       "    <tr>\n",
       "      <th>3</th>\n",
       "      <td>Partly Cloudy</td>\n",
       "      <td>rain</td>\n",
       "      <td>8.288889</td>\n",
       "      <td>0.83</td>\n",
       "      <td>14.1036</td>\n",
       "      <td>269.0</td>\n",
       "      <td>15.8263</td>\n",
       "      <td>1016.41</td>\n",
       "    </tr>\n",
       "    <tr>\n",
       "      <th>4</th>\n",
       "      <td>Mostly Cloudy</td>\n",
       "      <td>rain</td>\n",
       "      <td>8.755556</td>\n",
       "      <td>0.83</td>\n",
       "      <td>11.0446</td>\n",
       "      <td>259.0</td>\n",
       "      <td>15.8263</td>\n",
       "      <td>1016.51</td>\n",
       "    </tr>\n",
       "  </tbody>\n",
       "</table>\n",
       "</div>"
      ],
      "text/plain": [
       "         Summary Precip Type  Temperature (C)  Humidity  Wind Speed (km/h)  \\\n",
       "0  Partly Cloudy        rain         9.472222      0.89            14.1197   \n",
       "1  Partly Cloudy        rain         9.355556      0.86            14.2646   \n",
       "2  Mostly Cloudy        rain         9.377778      0.89             3.9284   \n",
       "3  Partly Cloudy        rain         8.288889      0.83            14.1036   \n",
       "4  Mostly Cloudy        rain         8.755556      0.83            11.0446   \n",
       "\n",
       "   Wind Bearing (degrees)  Visibility (km)  Pressure (millibars)  \n",
       "0                   251.0          15.8263               1015.13  \n",
       "1                   259.0          15.8263               1015.63  \n",
       "2                   204.0          14.9569               1015.94  \n",
       "3                   269.0          15.8263               1016.41  \n",
       "4                   259.0          15.8263               1016.51  "
      ]
     },
     "execution_count": 14,
     "metadata": {},
     "output_type": "execute_result"
    }
   ],
   "source": [
    "# Droping Column 'Daily Summary'\n",
    "df.drop('Daily Summary', inplace=True , axis=1)\n",
    "df.head()\n",
    "# df[df['Visibility (km)'] >= 16].head()"
   ]
  },
  {
   "cell_type": "markdown",
   "id": "19641914",
   "metadata": {},
   "source": [
    "# Preprocessing "
   ]
  },
  {
   "cell_type": "code",
   "execution_count": 15,
   "id": "2ee9e8ee",
   "metadata": {},
   "outputs": [
    {
     "data": {
      "text/plain": [
       "Summary                   0\n",
       "Precip Type               0\n",
       "Temperature (C)           0\n",
       "Humidity                  0\n",
       "Wind Speed (km/h)         0\n",
       "Wind Bearing (degrees)    0\n",
       "Visibility (km)           0\n",
       "Pressure (millibars)      0\n",
       "dtype: int64"
      ]
     },
     "execution_count": 15,
     "metadata": {},
     "output_type": "execute_result"
    }
   ],
   "source": [
    "# Droping null records exist in 'Percip Type'\n",
    "df.dropna(axis=0, subset=['Precip Type'], inplace=True)\n",
    "df.isnull().sum()"
   ]
  },
  {
   "cell_type": "code",
   "execution_count": 16,
   "id": "7e59b8e2",
   "metadata": {},
   "outputs": [
    {
     "data": {
      "text/html": [
       "<div>\n",
       "<style scoped>\n",
       "    .dataframe tbody tr th:only-of-type {\n",
       "        vertical-align: middle;\n",
       "    }\n",
       "\n",
       "    .dataframe tbody tr th {\n",
       "        vertical-align: top;\n",
       "    }\n",
       "\n",
       "    .dataframe thead th {\n",
       "        text-align: right;\n",
       "    }\n",
       "</style>\n",
       "<table border=\"1\" class=\"dataframe\">\n",
       "  <thead>\n",
       "    <tr style=\"text-align: right;\">\n",
       "      <th></th>\n",
       "      <th>Summary</th>\n",
       "      <th>Precip Type</th>\n",
       "      <th>Temperature (C)</th>\n",
       "      <th>Humidity</th>\n",
       "      <th>Wind Speed (km/h)</th>\n",
       "      <th>Wind Bearing (degrees)</th>\n",
       "      <th>Visibility (km)</th>\n",
       "      <th>Pressure (millibars)</th>\n",
       "    </tr>\n",
       "  </thead>\n",
       "  <tbody>\n",
       "    <tr>\n",
       "      <th>0</th>\n",
       "      <td>Partly Cloudy</td>\n",
       "      <td>rain</td>\n",
       "      <td>9.472222</td>\n",
       "      <td>0.89</td>\n",
       "      <td>14.1197</td>\n",
       "      <td>251.0</td>\n",
       "      <td>15.8263</td>\n",
       "      <td>1015.13</td>\n",
       "    </tr>\n",
       "    <tr>\n",
       "      <th>1</th>\n",
       "      <td>Partly Cloudy</td>\n",
       "      <td>rain</td>\n",
       "      <td>9.355556</td>\n",
       "      <td>0.86</td>\n",
       "      <td>14.2646</td>\n",
       "      <td>259.0</td>\n",
       "      <td>15.8263</td>\n",
       "      <td>1015.63</td>\n",
       "    </tr>\n",
       "    <tr>\n",
       "      <th>2</th>\n",
       "      <td>Mostly Cloudy</td>\n",
       "      <td>rain</td>\n",
       "      <td>9.377778</td>\n",
       "      <td>0.89</td>\n",
       "      <td>3.9284</td>\n",
       "      <td>204.0</td>\n",
       "      <td>14.9569</td>\n",
       "      <td>1015.94</td>\n",
       "    </tr>\n",
       "    <tr>\n",
       "      <th>3</th>\n",
       "      <td>Partly Cloudy</td>\n",
       "      <td>rain</td>\n",
       "      <td>8.288889</td>\n",
       "      <td>0.83</td>\n",
       "      <td>14.1036</td>\n",
       "      <td>269.0</td>\n",
       "      <td>15.8263</td>\n",
       "      <td>1016.41</td>\n",
       "    </tr>\n",
       "    <tr>\n",
       "      <th>4</th>\n",
       "      <td>Mostly Cloudy</td>\n",
       "      <td>rain</td>\n",
       "      <td>8.755556</td>\n",
       "      <td>0.83</td>\n",
       "      <td>11.0446</td>\n",
       "      <td>259.0</td>\n",
       "      <td>15.8263</td>\n",
       "      <td>1016.51</td>\n",
       "    </tr>\n",
       "    <tr>\n",
       "      <th>...</th>\n",
       "      <td>...</td>\n",
       "      <td>...</td>\n",
       "      <td>...</td>\n",
       "      <td>...</td>\n",
       "      <td>...</td>\n",
       "      <td>...</td>\n",
       "      <td>...</td>\n",
       "      <td>...</td>\n",
       "    </tr>\n",
       "    <tr>\n",
       "      <th>95859</th>\n",
       "      <td>Partly Cloudy</td>\n",
       "      <td>rain</td>\n",
       "      <td>26.016667</td>\n",
       "      <td>0.43</td>\n",
       "      <td>10.9963</td>\n",
       "      <td>31.0</td>\n",
       "      <td>16.1000</td>\n",
       "      <td>1014.36</td>\n",
       "    </tr>\n",
       "    <tr>\n",
       "      <th>95860</th>\n",
       "      <td>Partly Cloudy</td>\n",
       "      <td>rain</td>\n",
       "      <td>24.583333</td>\n",
       "      <td>0.48</td>\n",
       "      <td>10.0947</td>\n",
       "      <td>20.0</td>\n",
       "      <td>15.5526</td>\n",
       "      <td>1015.16</td>\n",
       "    </tr>\n",
       "    <tr>\n",
       "      <th>95861</th>\n",
       "      <td>Partly Cloudy</td>\n",
       "      <td>rain</td>\n",
       "      <td>22.038889</td>\n",
       "      <td>0.56</td>\n",
       "      <td>8.9838</td>\n",
       "      <td>30.0</td>\n",
       "      <td>16.1000</td>\n",
       "      <td>1015.66</td>\n",
       "    </tr>\n",
       "    <tr>\n",
       "      <th>95862</th>\n",
       "      <td>Partly Cloudy</td>\n",
       "      <td>rain</td>\n",
       "      <td>21.522222</td>\n",
       "      <td>0.60</td>\n",
       "      <td>10.5294</td>\n",
       "      <td>20.0</td>\n",
       "      <td>16.1000</td>\n",
       "      <td>1015.95</td>\n",
       "    </tr>\n",
       "    <tr>\n",
       "      <th>95863</th>\n",
       "      <td>Partly Cloudy</td>\n",
       "      <td>rain</td>\n",
       "      <td>20.438889</td>\n",
       "      <td>0.61</td>\n",
       "      <td>5.8765</td>\n",
       "      <td>39.0</td>\n",
       "      <td>15.5204</td>\n",
       "      <td>1016.16</td>\n",
       "    </tr>\n",
       "  </tbody>\n",
       "</table>\n",
       "<p>95864 rows × 8 columns</p>\n",
       "</div>"
      ],
      "text/plain": [
       "             Summary Precip Type  Temperature (C)  Humidity  \\\n",
       "0      Partly Cloudy        rain         9.472222      0.89   \n",
       "1      Partly Cloudy        rain         9.355556      0.86   \n",
       "2      Mostly Cloudy        rain         9.377778      0.89   \n",
       "3      Partly Cloudy        rain         8.288889      0.83   \n",
       "4      Mostly Cloudy        rain         8.755556      0.83   \n",
       "...              ...         ...              ...       ...   \n",
       "95859  Partly Cloudy        rain        26.016667      0.43   \n",
       "95860  Partly Cloudy        rain        24.583333      0.48   \n",
       "95861  Partly Cloudy        rain        22.038889      0.56   \n",
       "95862  Partly Cloudy        rain        21.522222      0.60   \n",
       "95863  Partly Cloudy        rain        20.438889      0.61   \n",
       "\n",
       "       Wind Speed (km/h)  Wind Bearing (degrees)  Visibility (km)  \\\n",
       "0                14.1197                   251.0          15.8263   \n",
       "1                14.2646                   259.0          15.8263   \n",
       "2                 3.9284                   204.0          14.9569   \n",
       "3                14.1036                   269.0          15.8263   \n",
       "4                11.0446                   259.0          15.8263   \n",
       "...                  ...                     ...              ...   \n",
       "95859            10.9963                    31.0          16.1000   \n",
       "95860            10.0947                    20.0          15.5526   \n",
       "95861             8.9838                    30.0          16.1000   \n",
       "95862            10.5294                    20.0          16.1000   \n",
       "95863             5.8765                    39.0          15.5204   \n",
       "\n",
       "       Pressure (millibars)  \n",
       "0                   1015.13  \n",
       "1                   1015.63  \n",
       "2                   1015.94  \n",
       "3                   1016.41  \n",
       "4                   1016.51  \n",
       "...                     ...  \n",
       "95859               1014.36  \n",
       "95860               1015.16  \n",
       "95861               1015.66  \n",
       "95862               1015.95  \n",
       "95863               1016.16  \n",
       "\n",
       "[95864 rows x 8 columns]"
      ]
     },
     "execution_count": 16,
     "metadata": {},
     "output_type": "execute_result"
    }
   ],
   "source": [
    "df.drop_duplicates(inplace=True)\n",
    "df.reset_index(inplace=True, drop=True)\n",
    "df"
   ]
  },
  {
   "cell_type": "code",
   "execution_count": 17,
   "id": "6b1fe0f9",
   "metadata": {},
   "outputs": [
    {
     "data": {
      "text/plain": [
       "count             95864\n",
       "unique               27\n",
       "top       Partly Cloudy\n",
       "freq              31628\n",
       "Name: Summary, dtype: object"
      ]
     },
     "execution_count": 17,
     "metadata": {},
     "output_type": "execute_result"
    }
   ],
   "source": [
    "df['Summary'].describe()"
   ]
  },
  {
   "cell_type": "code",
   "execution_count": 18,
   "id": "fd906e2a",
   "metadata": {},
   "outputs": [
    {
     "data": {
      "text/plain": [
       "array(['Partly Cloudy', 'Mostly Cloudy', 'Overcast', 'Foggy',\n",
       "       'Breezy and Mostly Cloudy', 'Clear', 'Breezy and Partly Cloudy',\n",
       "       'Breezy and Overcast', 'Humid and Mostly Cloudy',\n",
       "       'Humid and Partly Cloudy', 'Windy and Foggy', 'Windy and Overcast',\n",
       "       'Breezy and Foggy', 'Windy and Partly Cloudy', 'Breezy',\n",
       "       'Dry and Partly Cloudy', 'Windy and Mostly Cloudy',\n",
       "       'Dangerously Windy and Partly Cloudy', 'Dry', 'Windy',\n",
       "       'Humid and Overcast', 'Light Rain', 'Drizzle', 'Windy and Dry',\n",
       "       'Dry and Mostly Cloudy', 'Breezy and Dry', 'Rain'], dtype=object)"
      ]
     },
     "execution_count": 18,
     "metadata": {},
     "output_type": "execute_result"
    }
   ],
   "source": [
    "df['Summary'].unique()"
   ]
  },
  {
   "cell_type": "code",
   "execution_count": 19,
   "id": "f6bcfb2d",
   "metadata": {},
   "outputs": [
    {
     "data": {
      "text/plain": [
       "Partly Cloudy                          31628\n",
       "Mostly Cloudy                          27905\n",
       "Overcast                               16504\n",
       "Clear                                  10745\n",
       "Foggy                                   7092\n",
       "Breezy and Overcast                      527\n",
       "Breezy and Mostly Cloudy                 516\n",
       "Breezy and Partly Cloudy                 386\n",
       "Dry and Partly Cloudy                     86\n",
       "Windy and Partly Cloudy                   67\n",
       "Light Rain                                63\n",
       "Breezy                                    54\n",
       "Windy and Overcast                        45\n",
       "Humid and Mostly Cloudy                   40\n",
       "Drizzle                                   39\n",
       "Breezy and Foggy                          35\n",
       "Windy and Mostly Cloudy                   35\n",
       "Dry                                       34\n",
       "Humid and Partly Cloudy                   17\n",
       "Dry and Mostly Cloudy                     14\n",
       "Rain                                      10\n",
       "Windy                                      8\n",
       "Humid and Overcast                         7\n",
       "Windy and Foggy                            4\n",
       "Windy and Dry                              1\n",
       "Dangerously Windy and Partly Cloudy        1\n",
       "Breezy and Dry                             1\n",
       "Name: Summary, dtype: int64"
      ]
     },
     "execution_count": 19,
     "metadata": {},
     "output_type": "execute_result"
    }
   ],
   "source": [
    "df['Summary'].value_counts()"
   ]
  },
  {
   "cell_type": "code",
   "execution_count": 20,
   "id": "a7ba8a25",
   "metadata": {},
   "outputs": [
    {
     "data": {
      "text/plain": [
       "rain    85190\n",
       "snow    10674\n",
       "Name: Precip Type, dtype: int64"
      ]
     },
     "execution_count": 20,
     "metadata": {},
     "output_type": "execute_result"
    }
   ],
   "source": [
    "df['Precip Type'].value_counts()"
   ]
  },
  {
   "cell_type": "markdown",
   "id": "d7a41b54",
   "metadata": {},
   "source": [
    "## Logical or Balanced Dataset Distribution\n",
    "In this dataset, we can have Logical Distribution (leads to imbalanced) or Balanced Distribution (leads to illogical).\n",
    "There is a Tradeoff.\n",
    "So, we are finding a point (by sacrificing records) where we get an optimal Dataset Distribution"
   ]
  },
  {
   "cell_type": "markdown",
   "id": "3591de17",
   "metadata": {},
   "source": [
    "Getting Low accuracy when balancing Dataset !!!!"
   ]
  },
  {
   "cell_type": "code",
   "execution_count": 21,
   "id": "ac70acb3",
   "metadata": {},
   "outputs": [],
   "source": [
    "# p_Cloudy = df[df['Summary'] == 'Partly Cloudy'].head(8000)\n",
    "# p_Cloudy"
   ]
  },
  {
   "cell_type": "code",
   "execution_count": 22,
   "id": "d892997b",
   "metadata": {},
   "outputs": [],
   "source": [
    "# m_Cloudy = df[df['Summary'] == 'Mostly Cloudy'].head(8000)\n",
    "# overcast = df[df['Summary'] == 'Overcast'].head(16000)\n",
    "# clear = df[df['Summary'] == 'Clear']\n",
    "# f_and_others = df[~df['Summary'].isin(['Mostly Cloudy', 'Partly Cloudy', 'Overcast','Clear'])]"
   ]
  },
  {
   "cell_type": "code",
   "execution_count": 23,
   "id": "ae37e44a",
   "metadata": {},
   "outputs": [],
   "source": [
    "# f_and_others"
   ]
  },
  {
   "cell_type": "code",
   "execution_count": 24,
   "id": "b78a428c",
   "metadata": {},
   "outputs": [],
   "source": [
    "# df=pd.concat([m_Cloudy,p_Cloudy,overcast,clear,f_and_others])\n",
    "# df"
   ]
  },
  {
   "cell_type": "code",
   "execution_count": 25,
   "id": "54b43d2c",
   "metadata": {},
   "outputs": [],
   "source": [
    "# df.reset_index(drop=True, inplace=True)\n",
    "# df"
   ]
  },
  {
   "cell_type": "code",
   "execution_count": 26,
   "id": "dc71857f",
   "metadata": {},
   "outputs": [],
   "source": [
    "# df['Summary'] = df['Summary'].replace('Partly Cloudy', 'Cloudy')\n",
    "# df['Summary'] = df['Summary'].replace('Mostly Cloudy','Cloudy')\n",
    "# df.loc[~df['Summary'].isin(['Cloudy', 'Overcast', 'Clear']), 'Summary'] = 'Others'"
   ]
  },
  {
   "cell_type": "code",
   "execution_count": 27,
   "id": "7395835c",
   "metadata": {},
   "outputs": [
    {
     "data": {
      "text/plain": [
       "Cloudy    76037\n",
       "Clear     10745\n",
       "Foggy      7092\n",
       "Breezy     1519\n",
       "Windy       161\n",
       "Dry         134\n",
       "Rain        112\n",
       "Humid        64\n",
       "Name: Summary, dtype: int64"
      ]
     },
     "execution_count": 27,
     "metadata": {},
     "output_type": "execute_result"
    }
   ],
   "source": [
    "\n",
    "# 8 class mapping\n",
    "# providing higher accuracy over other \n",
    "\n",
    "mappings = {\n",
    "    'Partly Cloudy': 'Cloudy',\n",
    "    'Mostly Cloudy': 'Cloudy',\n",
    "    'Overcast': 'Cloudy',\n",
    "    'Clear': 'Clear',\n",
    "    'Foggy': 'Foggy',\n",
    "    'Breezy and Overcast': 'Breezy',\n",
    "    'Breezy and Mostly Cloudy': 'Breezy',\n",
    "    'Breezy and Partly Cloudy': 'Breezy',\n",
    "    'Dry and Partly Cloudy': 'Dry',\n",
    "    'Windy and Partly Cloudy': 'Windy',\n",
    "    'Light Rain': 'Rain',\n",
    "    'Breezy': 'Breezy',\n",
    "    'Windy and Overcast': 'Windy',\n",
    "    'Humid and Mostly Cloudy': 'Humid',\n",
    "    'Drizzle': 'Rain',\n",
    "    'Breezy and Foggy': 'Breezy',\n",
    "    'Windy and Mostly Cloudy': 'Windy',\n",
    "    'Dry': 'Dry',\n",
    "    'Humid and Partly Cloudy': 'Humid',\n",
    "    'Dry and Mostly Cloudy': 'Dry',\n",
    "    'Rain': 'Rain',\n",
    "    'Windy': 'Windy',\n",
    "    'Humid and Overcast': 'Humid',\n",
    "    'Windy and Foggy': 'Windy',\n",
    "    'Windy and Dry': 'Windy',\n",
    "    'Dangerously Windy and Partly Cloudy': 'Windy',\n",
    "    'Breezy and Dry': 'Breezy'\n",
    "}\n",
    "df['Summary'] = df['Summary'].map(mappings)\n",
    "df['Summary'].value_counts()"
   ]
  },
  {
   "cell_type": "code",
   "execution_count": 28,
   "id": "87326919",
   "metadata": {},
   "outputs": [],
   "source": [
    "\n",
    "# 5 class mapping \n",
    "# providing lower accuracy over other\n",
    "\n",
    "\n",
    "# mappings = {\n",
    "#     'Partly Cloudy': 'Cloudy',\n",
    "#     'Mostly Cloudy': 'Cloudy',\n",
    "#     'Overcast': 'Overcast',\n",
    "#     'Clear': 'Clear',\n",
    "#     'Foggy': 'Foggy',\n",
    "#     'Breezy and Overcast': 'others',\n",
    "#     'Breezy and Mostly Cloudy': 'others',\n",
    "#     'Breezy and Partly Cloudy': 'others',\n",
    "#     'Dry and Partly Cloudy': 'others',\n",
    "#     'Windy and Partly Cloudy': 'others',\n",
    "#     'Light Rain': 'others',\n",
    "#     'Breezy': 'others',\n",
    "#     'Windy and Overcast': 'others',\n",
    "#     'Humid and Mostly Cloudy': 'others',\n",
    "#     'Drizzle': 'others',\n",
    "#     'Breezy and Foggy': 'others',\n",
    "#     'Windy and Mostly Cloudy': 'others',\n",
    "#     'Dry': 'others',\n",
    "#     'Humid and Partly Cloudy': 'others',\n",
    "#     'Dry and Mostly Cloudy': 'others',\n",
    "#     'Rain': 'others',\n",
    "#     'Windy': 'others',\n",
    "#     'Humid and Overcast': 'others',\n",
    "#     'Windy and Foggy': 'others',\n",
    "#     'Windy and Dry': 'others',\n",
    "#     'Dangerously Windy and Partly Cloudy': 'others',\n",
    "#     'Breezy and Dry': 'others'\n",
    "# }\n",
    "# df['Summary'] = df['Summary'].map(mappings)\n",
    "# df['Summary'].value_counts()"
   ]
  },
  {
   "cell_type": "code",
   "execution_count": 29,
   "id": "3b5b25ec",
   "metadata": {},
   "outputs": [
    {
     "data": {
      "text/plain": [
       "[Text(0, 0, 'Cloudy'),\n",
       " Text(1, 0, 'Foggy'),\n",
       " Text(2, 0, 'Breezy'),\n",
       " Text(3, 0, 'Clear'),\n",
       " Text(4, 0, 'Humid'),\n",
       " Text(5, 0, 'Windy'),\n",
       " Text(6, 0, 'Dry'),\n",
       " Text(7, 0, 'Rain')]"
      ]
     },
     "execution_count": 29,
     "metadata": {},
     "output_type": "execute_result"
    },
    {
     "data": {
      "image/png": "[encoded data removed]",
      "text/plain": [
       "<Figure size 640x480 with 1 Axes>"
      ]
     },
     "metadata": {},
     "output_type": "display_data"
    }
   ],
   "source": [
    "plot = sns.countplot(data=df,x='Summary')\n",
    "plot.set_xticklabels(plot.get_xticklabels(), rotation=90)"
   ]
  },
  {
   "cell_type": "code",
   "execution_count": 30,
   "id": "e15cafa1",
   "metadata": {},
   "outputs": [],
   "source": [
    "label_encoder = LabelEncoder()\n",
    "df[\"Summary\"] = label_encoder.fit_transform(df[\"Summary\"])\n",
    "label_encoder2 = LabelEncoder()\n",
    "df[\"Precip Type\"] = label_encoder2.fit_transform(df[\"Precip Type\"])"
   ]
  },
  {
   "cell_type": "code",
   "execution_count": 31,
   "id": "f11262b2",
   "metadata": {},
   "outputs": [
    {
     "data": {
      "text/plain": [
       "2    76037\n",
       "1    10745\n",
       "4     7092\n",
       "0     1519\n",
       "7      161\n",
       "3      134\n",
       "6      112\n",
       "5       64\n",
       "Name: Summary, dtype: int64"
      ]
     },
     "execution_count": 31,
     "metadata": {},
     "output_type": "execute_result"
    }
   ],
   "source": [
    "df['Summary'].value_counts()"
   ]
  },
  {
   "cell_type": "code",
   "execution_count": 32,
   "id": "ca40ae38",
   "metadata": {},
   "outputs": [
    {
     "data": {
      "text/plain": [
       "0    85190\n",
       "1    10674\n",
       "Name: Precip Type, dtype: int64"
      ]
     },
     "execution_count": 32,
     "metadata": {},
     "output_type": "execute_result"
    }
   ],
   "source": [
    "df['Precip Type'].value_counts()"
   ]
  },
  {
   "cell_type": "code",
   "execution_count": 33,
   "id": "2e6dcaa6",
   "metadata": {},
   "outputs": [
    {
     "data": {
      "text/html": [
       "<div>\n",
       "<style scoped>\n",
       "    .dataframe tbody tr th:only-of-type {\n",
       "        vertical-align: middle;\n",
       "    }\n",
       "\n",
       "    .dataframe tbody tr th {\n",
       "        vertical-align: top;\n",
       "    }\n",
       "\n",
       "    .dataframe thead th {\n",
       "        text-align: right;\n",
       "    }\n",
       "</style>\n",
       "<table border=\"1\" class=\"dataframe\">\n",
       "  <thead>\n",
       "    <tr style=\"text-align: right;\">\n",
       "      <th></th>\n",
       "      <th>Summary</th>\n",
       "      <th>Precip Type</th>\n",
       "      <th>Temperature (C)</th>\n",
       "      <th>Humidity</th>\n",
       "      <th>Wind Speed (km/h)</th>\n",
       "      <th>Wind Bearing (degrees)</th>\n",
       "      <th>Visibility (km)</th>\n",
       "      <th>Pressure (millibars)</th>\n",
       "    </tr>\n",
       "  </thead>\n",
       "  <tbody>\n",
       "    <tr>\n",
       "      <th>0</th>\n",
       "      <td>2</td>\n",
       "      <td>0</td>\n",
       "      <td>9.472222</td>\n",
       "      <td>0.89</td>\n",
       "      <td>14.1197</td>\n",
       "      <td>251.0</td>\n",
       "      <td>15.8263</td>\n",
       "      <td>1015.13</td>\n",
       "    </tr>\n",
       "    <tr>\n",
       "      <th>1</th>\n",
       "      <td>2</td>\n",
       "      <td>0</td>\n",
       "      <td>9.355556</td>\n",
       "      <td>0.86</td>\n",
       "      <td>14.2646</td>\n",
       "      <td>259.0</td>\n",
       "      <td>15.8263</td>\n",
       "      <td>1015.63</td>\n",
       "    </tr>\n",
       "    <tr>\n",
       "      <th>2</th>\n",
       "      <td>2</td>\n",
       "      <td>0</td>\n",
       "      <td>9.377778</td>\n",
       "      <td>0.89</td>\n",
       "      <td>3.9284</td>\n",
       "      <td>204.0</td>\n",
       "      <td>14.9569</td>\n",
       "      <td>1015.94</td>\n",
       "    </tr>\n",
       "    <tr>\n",
       "      <th>3</th>\n",
       "      <td>2</td>\n",
       "      <td>0</td>\n",
       "      <td>8.288889</td>\n",
       "      <td>0.83</td>\n",
       "      <td>14.1036</td>\n",
       "      <td>269.0</td>\n",
       "      <td>15.8263</td>\n",
       "      <td>1016.41</td>\n",
       "    </tr>\n",
       "    <tr>\n",
       "      <th>4</th>\n",
       "      <td>2</td>\n",
       "      <td>0</td>\n",
       "      <td>8.755556</td>\n",
       "      <td>0.83</td>\n",
       "      <td>11.0446</td>\n",
       "      <td>259.0</td>\n",
       "      <td>15.8263</td>\n",
       "      <td>1016.51</td>\n",
       "    </tr>\n",
       "    <tr>\n",
       "      <th>...</th>\n",
       "      <td>...</td>\n",
       "      <td>...</td>\n",
       "      <td>...</td>\n",
       "      <td>...</td>\n",
       "      <td>...</td>\n",
       "      <td>...</td>\n",
       "      <td>...</td>\n",
       "      <td>...</td>\n",
       "    </tr>\n",
       "    <tr>\n",
       "      <th>95859</th>\n",
       "      <td>2</td>\n",
       "      <td>0</td>\n",
       "      <td>26.016667</td>\n",
       "      <td>0.43</td>\n",
       "      <td>10.9963</td>\n",
       "      <td>31.0</td>\n",
       "      <td>16.1000</td>\n",
       "      <td>1014.36</td>\n",
       "    </tr>\n",
       "    <tr>\n",
       "      <th>95860</th>\n",
       "      <td>2</td>\n",
       "      <td>0</td>\n",
       "      <td>24.583333</td>\n",
       "      <td>0.48</td>\n",
       "      <td>10.0947</td>\n",
       "      <td>20.0</td>\n",
       "      <td>15.5526</td>\n",
       "      <td>1015.16</td>\n",
       "    </tr>\n",
       "    <tr>\n",
       "      <th>95861</th>\n",
       "      <td>2</td>\n",
       "      <td>0</td>\n",
       "      <td>22.038889</td>\n",
       "      <td>0.56</td>\n",
       "      <td>8.9838</td>\n",
       "      <td>30.0</td>\n",
       "      <td>16.1000</td>\n",
       "      <td>1015.66</td>\n",
       "    </tr>\n",
       "    <tr>\n",
       "      <th>95862</th>\n",
       "      <td>2</td>\n",
       "      <td>0</td>\n",
       "      <td>21.522222</td>\n",
       "      <td>0.60</td>\n",
       "      <td>10.5294</td>\n",
       "      <td>20.0</td>\n",
       "      <td>16.1000</td>\n",
       "      <td>1015.95</td>\n",
       "    </tr>\n",
       "    <tr>\n",
       "      <th>95863</th>\n",
       "      <td>2</td>\n",
       "      <td>0</td>\n",
       "      <td>20.438889</td>\n",
       "      <td>0.61</td>\n",
       "      <td>5.8765</td>\n",
       "      <td>39.0</td>\n",
       "      <td>15.5204</td>\n",
       "      <td>1016.16</td>\n",
       "    </tr>\n",
       "  </tbody>\n",
       "</table>\n",
       "<p>95864 rows × 8 columns</p>\n",
       "</div>"
      ],
      "text/plain": [
       "       Summary  Precip Type  Temperature (C)  Humidity  Wind Speed (km/h)  \\\n",
       "0            2            0         9.472222      0.89            14.1197   \n",
       "1            2            0         9.355556      0.86            14.2646   \n",
       "2            2            0         9.377778      0.89             3.9284   \n",
       "3            2            0         8.288889      0.83            14.1036   \n",
       "4            2            0         8.755556      0.83            11.0446   \n",
       "...        ...          ...              ...       ...                ...   \n",
       "95859        2            0        26.016667      0.43            10.9963   \n",
       "95860        2            0        24.583333      0.48            10.0947   \n",
       "95861        2            0        22.038889      0.56             8.9838   \n",
       "95862        2            0        21.522222      0.60            10.5294   \n",
       "95863        2            0        20.438889      0.61             5.8765   \n",
       "\n",
       "       Wind Bearing (degrees)  Visibility (km)  Pressure (millibars)  \n",
       "0                       251.0          15.8263               1015.13  \n",
       "1                       259.0          15.8263               1015.63  \n",
       "2                       204.0          14.9569               1015.94  \n",
       "3                       269.0          15.8263               1016.41  \n",
       "4                       259.0          15.8263               1016.51  \n",
       "...                       ...              ...                   ...  \n",
       "95859                    31.0          16.1000               1014.36  \n",
       "95860                    20.0          15.5526               1015.16  \n",
       "95861                    30.0          16.1000               1015.66  \n",
       "95862                    20.0          16.1000               1015.95  \n",
       "95863                    39.0          15.5204               1016.16  \n",
       "\n",
       "[95864 rows x 8 columns]"
      ]
     },
     "execution_count": 33,
     "metadata": {},
     "output_type": "execute_result"
    }
   ],
   "source": [
    "df"
   ]
  },
  {
   "cell_type": "code",
   "execution_count": 34,
   "id": "5375b82f",
   "metadata": {},
   "outputs": [
    {
     "data": {
      "text/html": [
       "<div>\n",
       "<style scoped>\n",
       "    .dataframe tbody tr th:only-of-type {\n",
       "        vertical-align: middle;\n",
       "    }\n",
       "\n",
       "    .dataframe tbody tr th {\n",
       "        vertical-align: top;\n",
       "    }\n",
       "\n",
       "    .dataframe thead th {\n",
       "        text-align: right;\n",
       "    }\n",
       "</style>\n",
       "<table border=\"1\" class=\"dataframe\">\n",
       "  <thead>\n",
       "    <tr style=\"text-align: right;\">\n",
       "      <th></th>\n",
       "      <th>Precip Type</th>\n",
       "      <th>Temperature (C)</th>\n",
       "      <th>Humidity</th>\n",
       "      <th>Wind Speed (km/h)</th>\n",
       "      <th>Wind Bearing (degrees)</th>\n",
       "      <th>Visibility (km)</th>\n",
       "      <th>Pressure (millibars)</th>\n",
       "    </tr>\n",
       "  </thead>\n",
       "  <tbody>\n",
       "    <tr>\n",
       "      <th>0</th>\n",
       "      <td>0</td>\n",
       "      <td>9.472222</td>\n",
       "      <td>0.89</td>\n",
       "      <td>14.1197</td>\n",
       "      <td>251.0</td>\n",
       "      <td>15.8263</td>\n",
       "      <td>1015.13</td>\n",
       "    </tr>\n",
       "    <tr>\n",
       "      <th>1</th>\n",
       "      <td>0</td>\n",
       "      <td>9.355556</td>\n",
       "      <td>0.86</td>\n",
       "      <td>14.2646</td>\n",
       "      <td>259.0</td>\n",
       "      <td>15.8263</td>\n",
       "      <td>1015.63</td>\n",
       "    </tr>\n",
       "    <tr>\n",
       "      <th>2</th>\n",
       "      <td>0</td>\n",
       "      <td>9.377778</td>\n",
       "      <td>0.89</td>\n",
       "      <td>3.9284</td>\n",
       "      <td>204.0</td>\n",
       "      <td>14.9569</td>\n",
       "      <td>1015.94</td>\n",
       "    </tr>\n",
       "    <tr>\n",
       "      <th>3</th>\n",
       "      <td>0</td>\n",
       "      <td>8.288889</td>\n",
       "      <td>0.83</td>\n",
       "      <td>14.1036</td>\n",
       "      <td>269.0</td>\n",
       "      <td>15.8263</td>\n",
       "      <td>1016.41</td>\n",
       "    </tr>\n",
       "    <tr>\n",
       "      <th>4</th>\n",
       "      <td>0</td>\n",
       "      <td>8.755556</td>\n",
       "      <td>0.83</td>\n",
       "      <td>11.0446</td>\n",
       "      <td>259.0</td>\n",
       "      <td>15.8263</td>\n",
       "      <td>1016.51</td>\n",
       "    </tr>\n",
       "    <tr>\n",
       "      <th>...</th>\n",
       "      <td>...</td>\n",
       "      <td>...</td>\n",
       "      <td>...</td>\n",
       "      <td>...</td>\n",
       "      <td>...</td>\n",
       "      <td>...</td>\n",
       "      <td>...</td>\n",
       "    </tr>\n",
       "    <tr>\n",
       "      <th>95859</th>\n",
       "      <td>0</td>\n",
       "      <td>26.016667</td>\n",
       "      <td>0.43</td>\n",
       "      <td>10.9963</td>\n",
       "      <td>31.0</td>\n",
       "      <td>16.1000</td>\n",
       "      <td>1014.36</td>\n",
       "    </tr>\n",
       "    <tr>\n",
       "      <th>95860</th>\n",
       "      <td>0</td>\n",
       "      <td>24.583333</td>\n",
       "      <td>0.48</td>\n",
       "      <td>10.0947</td>\n",
       "      <td>20.0</td>\n",
       "      <td>15.5526</td>\n",
       "      <td>1015.16</td>\n",
       "    </tr>\n",
       "    <tr>\n",
       "      <th>95861</th>\n",
       "      <td>0</td>\n",
       "      <td>22.038889</td>\n",
       "      <td>0.56</td>\n",
       "      <td>8.9838</td>\n",
       "      <td>30.0</td>\n",
       "      <td>16.1000</td>\n",
       "      <td>1015.66</td>\n",
       "    </tr>\n",
       "    <tr>\n",
       "      <th>95862</th>\n",
       "      <td>0</td>\n",
       "      <td>21.522222</td>\n",
       "      <td>0.60</td>\n",
       "      <td>10.5294</td>\n",
       "      <td>20.0</td>\n",
       "      <td>16.1000</td>\n",
       "      <td>1015.95</td>\n",
       "    </tr>\n",
       "    <tr>\n",
       "      <th>95863</th>\n",
       "      <td>0</td>\n",
       "      <td>20.438889</td>\n",
       "      <td>0.61</td>\n",
       "      <td>5.8765</td>\n",
       "      <td>39.0</td>\n",
       "      <td>15.5204</td>\n",
       "      <td>1016.16</td>\n",
       "    </tr>\n",
       "  </tbody>\n",
       "</table>\n",
       "<p>95864 rows × 7 columns</p>\n",
       "</div>"
      ],
      "text/plain": [
       "       Precip Type  Temperature (C)  Humidity  Wind Speed (km/h)  \\\n",
       "0                0         9.472222      0.89            14.1197   \n",
       "1                0         9.355556      0.86            14.2646   \n",
       "2                0         9.377778      0.89             3.9284   \n",
       "3                0         8.288889      0.83            14.1036   \n",
       "4                0         8.755556      0.83            11.0446   \n",
       "...            ...              ...       ...                ...   \n",
       "95859            0        26.016667      0.43            10.9963   \n",
       "95860            0        24.583333      0.48            10.0947   \n",
       "95861            0        22.038889      0.56             8.9838   \n",
       "95862            0        21.522222      0.60            10.5294   \n",
       "95863            0        20.438889      0.61             5.8765   \n",
       "\n",
       "       Wind Bearing (degrees)  Visibility (km)  Pressure (millibars)  \n",
       "0                       251.0          15.8263               1015.13  \n",
       "1                       259.0          15.8263               1015.63  \n",
       "2                       204.0          14.9569               1015.94  \n",
       "3                       269.0          15.8263               1016.41  \n",
       "4                       259.0          15.8263               1016.51  \n",
       "...                       ...              ...                   ...  \n",
       "95859                    31.0          16.1000               1014.36  \n",
       "95860                    20.0          15.5526               1015.16  \n",
       "95861                    30.0          16.1000               1015.66  \n",
       "95862                    20.0          16.1000               1015.95  \n",
       "95863                    39.0          15.5204               1016.16  \n",
       "\n",
       "[95864 rows x 7 columns]"
      ]
     },
     "execution_count": 34,
     "metadata": {},
     "output_type": "execute_result"
    }
   ],
   "source": [
    "X, Y = df.iloc[:,1:], df[['Summary']]\n",
    "X"
   ]
  },
  {
   "cell_type": "code",
   "execution_count": 35,
   "id": "123dbdac",
   "metadata": {},
   "outputs": [
    {
     "data": {
      "text/html": [
       "<div>\n",
       "<style scoped>\n",
       "    .dataframe tbody tr th:only-of-type {\n",
       "        vertical-align: middle;\n",
       "    }\n",
       "\n",
       "    .dataframe tbody tr th {\n",
       "        vertical-align: top;\n",
       "    }\n",
       "\n",
       "    .dataframe thead th {\n",
       "        text-align: right;\n",
       "    }\n",
       "</style>\n",
       "<table border=\"1\" class=\"dataframe\">\n",
       "  <thead>\n",
       "    <tr style=\"text-align: right;\">\n",
       "      <th></th>\n",
       "      <th>Summary</th>\n",
       "    </tr>\n",
       "  </thead>\n",
       "  <tbody>\n",
       "    <tr>\n",
       "      <th>0</th>\n",
       "      <td>2</td>\n",
       "    </tr>\n",
       "    <tr>\n",
       "      <th>1</th>\n",
       "      <td>2</td>\n",
       "    </tr>\n",
       "    <tr>\n",
       "      <th>2</th>\n",
       "      <td>2</td>\n",
       "    </tr>\n",
       "    <tr>\n",
       "      <th>3</th>\n",
       "      <td>2</td>\n",
       "    </tr>\n",
       "    <tr>\n",
       "      <th>4</th>\n",
       "      <td>2</td>\n",
       "    </tr>\n",
       "    <tr>\n",
       "      <th>...</th>\n",
       "      <td>...</td>\n",
       "    </tr>\n",
       "    <tr>\n",
       "      <th>95859</th>\n",
       "      <td>2</td>\n",
       "    </tr>\n",
       "    <tr>\n",
       "      <th>95860</th>\n",
       "      <td>2</td>\n",
       "    </tr>\n",
       "    <tr>\n",
       "      <th>95861</th>\n",
       "      <td>2</td>\n",
       "    </tr>\n",
       "    <tr>\n",
       "      <th>95862</th>\n",
       "      <td>2</td>\n",
       "    </tr>\n",
       "    <tr>\n",
       "      <th>95863</th>\n",
       "      <td>2</td>\n",
       "    </tr>\n",
       "  </tbody>\n",
       "</table>\n",
       "<p>95864 rows × 1 columns</p>\n",
       "</div>"
      ],
      "text/plain": [
       "       Summary\n",
       "0            2\n",
       "1            2\n",
       "2            2\n",
       "3            2\n",
       "4            2\n",
       "...        ...\n",
       "95859        2\n",
       "95860        2\n",
       "95861        2\n",
       "95862        2\n",
       "95863        2\n",
       "\n",
       "[95864 rows x 1 columns]"
      ]
     },
     "execution_count": 35,
     "metadata": {},
     "output_type": "execute_result"
    }
   ],
   "source": [
    "Y"
   ]
  },
  {
   "cell_type": "code",
   "execution_count": 36,
   "id": "e5bab3a0",
   "metadata": {},
   "outputs": [
    {
     "data": {
      "text/plain": [
       "Summary    193708\n",
       "dtype: int64"
      ]
     },
     "execution_count": 36,
     "metadata": {},
     "output_type": "execute_result"
    }
   ],
   "source": [
    "Y.sum()"
   ]
  },
  {
   "cell_type": "code",
   "execution_count": 37,
   "id": "05d82b47",
   "metadata": {},
   "outputs": [
    {
     "data": {
      "text/html": [
       "<div>\n",
       "<style scoped>\n",
       "    .dataframe tbody tr th:only-of-type {\n",
       "        vertical-align: middle;\n",
       "    }\n",
       "\n",
       "    .dataframe tbody tr th {\n",
       "        vertical-align: top;\n",
       "    }\n",
       "\n",
       "    .dataframe thead th {\n",
       "        text-align: right;\n",
       "    }\n",
       "</style>\n",
       "<table border=\"1\" class=\"dataframe\">\n",
       "  <thead>\n",
       "    <tr style=\"text-align: right;\">\n",
       "      <th></th>\n",
       "      <th>Precip Type</th>\n",
       "      <th>Temperature (C)</th>\n",
       "      <th>Humidity</th>\n",
       "      <th>Wind Speed (km/h)</th>\n",
       "      <th>Wind Bearing (degrees)</th>\n",
       "      <th>Visibility (km)</th>\n",
       "      <th>Pressure (millibars)</th>\n",
       "    </tr>\n",
       "  </thead>\n",
       "  <tbody>\n",
       "    <tr>\n",
       "      <th>60473</th>\n",
       "      <td>0</td>\n",
       "      <td>17.177778</td>\n",
       "      <td>0.37</td>\n",
       "      <td>12.5419</td>\n",
       "      <td>162.0</td>\n",
       "      <td>9.9820</td>\n",
       "      <td>1011.27</td>\n",
       "    </tr>\n",
       "    <tr>\n",
       "      <th>73611</th>\n",
       "      <td>0</td>\n",
       "      <td>15.588889</td>\n",
       "      <td>0.93</td>\n",
       "      <td>4.8783</td>\n",
       "      <td>241.0</td>\n",
       "      <td>11.9140</td>\n",
       "      <td>1004.25</td>\n",
       "    </tr>\n",
       "    <tr>\n",
       "      <th>199</th>\n",
       "      <td>0</td>\n",
       "      <td>11.022222</td>\n",
       "      <td>0.86</td>\n",
       "      <td>7.8890</td>\n",
       "      <td>307.0</td>\n",
       "      <td>9.9820</td>\n",
       "      <td>1013.01</td>\n",
       "    </tr>\n",
       "    <tr>\n",
       "      <th>75429</th>\n",
       "      <td>0</td>\n",
       "      <td>5.622222</td>\n",
       "      <td>0.81</td>\n",
       "      <td>11.3344</td>\n",
       "      <td>271.0</td>\n",
       "      <td>16.1000</td>\n",
       "      <td>1007.70</td>\n",
       "    </tr>\n",
       "    <tr>\n",
       "      <th>88353</th>\n",
       "      <td>0</td>\n",
       "      <td>25.850000</td>\n",
       "      <td>0.50</td>\n",
       "      <td>7.1967</td>\n",
       "      <td>23.0</td>\n",
       "      <td>15.5526</td>\n",
       "      <td>1016.86</td>\n",
       "    </tr>\n",
       "    <tr>\n",
       "      <th>...</th>\n",
       "      <td>...</td>\n",
       "      <td>...</td>\n",
       "      <td>...</td>\n",
       "      <td>...</td>\n",
       "      <td>...</td>\n",
       "      <td>...</td>\n",
       "      <td>...</td>\n",
       "    </tr>\n",
       "    <tr>\n",
       "      <th>30615</th>\n",
       "      <td>0</td>\n",
       "      <td>20.972222</td>\n",
       "      <td>0.82</td>\n",
       "      <td>10.7709</td>\n",
       "      <td>230.0</td>\n",
       "      <td>10.7065</td>\n",
       "      <td>1009.93</td>\n",
       "    </tr>\n",
       "    <tr>\n",
       "      <th>20322</th>\n",
       "      <td>0</td>\n",
       "      <td>8.838889</td>\n",
       "      <td>0.72</td>\n",
       "      <td>20.0606</td>\n",
       "      <td>150.0</td>\n",
       "      <td>9.9015</td>\n",
       "      <td>1019.69</td>\n",
       "    </tr>\n",
       "    <tr>\n",
       "      <th>35113</th>\n",
       "      <td>0</td>\n",
       "      <td>5.950000</td>\n",
       "      <td>0.83</td>\n",
       "      <td>4.5885</td>\n",
       "      <td>199.0</td>\n",
       "      <td>14.9569</td>\n",
       "      <td>1018.11</td>\n",
       "    </tr>\n",
       "    <tr>\n",
       "      <th>63153</th>\n",
       "      <td>0</td>\n",
       "      <td>3.666667</td>\n",
       "      <td>0.92</td>\n",
       "      <td>10.7065</td>\n",
       "      <td>140.0</td>\n",
       "      <td>4.3470</td>\n",
       "      <td>1018.28</td>\n",
       "    </tr>\n",
       "    <tr>\n",
       "      <th>78598</th>\n",
       "      <td>0</td>\n",
       "      <td>17.200000</td>\n",
       "      <td>0.96</td>\n",
       "      <td>3.1556</td>\n",
       "      <td>301.0</td>\n",
       "      <td>6.5688</td>\n",
       "      <td>1014.32</td>\n",
       "    </tr>\n",
       "  </tbody>\n",
       "</table>\n",
       "<p>23966 rows × 7 columns</p>\n",
       "</div>"
      ],
      "text/plain": [
       "       Precip Type  Temperature (C)  Humidity  Wind Speed (km/h)  \\\n",
       "60473            0        17.177778      0.37            12.5419   \n",
       "73611            0        15.588889      0.93             4.8783   \n",
       "199              0        11.022222      0.86             7.8890   \n",
       "75429            0         5.622222      0.81            11.3344   \n",
       "88353            0        25.850000      0.50             7.1967   \n",
       "...            ...              ...       ...                ...   \n",
       "30615            0        20.972222      0.82            10.7709   \n",
       "20322            0         8.838889      0.72            20.0606   \n",
       "35113            0         5.950000      0.83             4.5885   \n",
       "63153            0         3.666667      0.92            10.7065   \n",
       "78598            0        17.200000      0.96             3.1556   \n",
       "\n",
       "       Wind Bearing (degrees)  Visibility (km)  Pressure (millibars)  \n",
       "60473                   162.0           9.9820               1011.27  \n",
       "73611                   241.0          11.9140               1004.25  \n",
       "199                     307.0           9.9820               1013.01  \n",
       "75429                   271.0          16.1000               1007.70  \n",
       "88353                    23.0          15.5526               1016.86  \n",
       "...                       ...              ...                   ...  \n",
       "30615                   230.0          10.7065               1009.93  \n",
       "20322                   150.0           9.9015               1019.69  \n",
       "35113                   199.0          14.9569               1018.11  \n",
       "63153                   140.0           4.3470               1018.28  \n",
       "78598                   301.0           6.5688               1014.32  \n",
       "\n",
       "[23966 rows x 7 columns]"
      ]
     },
     "execution_count": 37,
     "metadata": {},
     "output_type": "execute_result"
    }
   ],
   "source": [
    "X_train_val, X_test, y_train_val, y_test = train_test_split(X, Y, test_size=0.25,random_state=2)\n",
    "X_test\n",
    "# X_train, X_val, y_train, y_val = train_test_split(X_train_val, y_train_val, test_size=0.15,random_state=2)"
   ]
  },
  {
   "cell_type": "code",
   "execution_count": 38,
   "id": "49f93e6d",
   "metadata": {},
   "outputs": [],
   "source": [
    "scaler = StandardScaler()\n",
    "X_scaled = scaler.fit_transform(X)"
   ]
  },
  {
   "cell_type": "code",
   "execution_count": 39,
   "id": "0df26fe2",
   "metadata": {},
   "outputs": [],
   "source": [
    "# For Hold Out Validation\n",
    "X_train_val, X_test, y_train_val, y_test = train_test_split(X_scaled, Y, test_size=0.25,random_state=2)\n",
    "X_train, X_val, y_train, y_val = train_test_split(X_train_val, y_train_val, test_size=0.15,random_state=2)"
   ]
  },
  {
   "cell_type": "markdown",
   "id": "c7bd1dbf",
   "metadata": {},
   "source": [
    "# Training Models"
   ]
  },
  {
   "cell_type": "markdown",
   "id": "7405e92e",
   "metadata": {},
   "source": [
    "## Random Forest"
   ]
  },
  {
   "cell_type": "code",
   "execution_count": 40,
   "id": "9294a061",
   "metadata": {},
   "outputs": [],
   "source": [
    "model_accuracies = []"
   ]
  },
  {
   "cell_type": "code",
   "execution_count": 41,
   "id": "2d58b16b",
   "metadata": {},
   "outputs": [],
   "source": [
    "\n",
    "# # params = {\n",
    "# #     'n_neighbors':[3,5,7,9,11,13],\n",
    "# #     'weights':['uniform', 'distance'],\n",
    "# #     'p':[1,2],\n",
    "# # }\n",
    "\n",
    "# # best_log = GridSearchCV(estimator = KNeighborsClassifier(),  \n",
    "# #                            param_grid = params,\n",
    "# #                            scoring = 'accuracy',\n",
    "# #                            cv = 5,\n",
    "# #                            verbose=2)\n",
    "\n",
    "\n",
    "# # best_log.fit(X_train, y_train)\n",
    "\n",
    "# # ===================================================================================\n",
    "\n",
    "\n",
    "\n",
    "\n",
    "# params = { \n",
    "#     'n_estimators': [200, 500],\n",
    "#     'max_features': ['auto', 'sqrt', 'log2'],\n",
    "#     'max_depth' : [4,5,6,7,8],\n",
    "#     'criterion' :['gini', 'entropy','log_loss']\n",
    "# }\n",
    "\n",
    "# CV_rfc = GridSearchCV(estimator=RandomForestClassifier() , \n",
    "#                       param_grid= params,\n",
    "#                       scoring= 'accuracy',\n",
    "#                       cv= 5)\n",
    "\n",
    "# CV_rfc.fit(X_train, y_train)\n",
    "\n",
    "\n",
    "\n",
    "# y_train.shape"
   ]
  },
  {
   "cell_type": "code",
   "execution_count": 42,
   "id": "c4e5fd05",
   "metadata": {},
   "outputs": [],
   "source": [
    "# best_log.best_estimator_\n",
    "\n",
    "# CV_rfc.best_params_"
   ]
  },
  {
   "cell_type": "code",
   "execution_count": 43,
   "id": "6c4ba5a0",
   "metadata": {},
   "outputs": [],
   "source": [
    "# y_pred = best_log.predict(X_main_test)\n",
    "# report = classification_report(y_main_test, y_pred)\n",
    "# acc = accuracy_score(y_main_test, y_pred)\n",
    "# model_accuracies.append(['RFC 1',acc])\n",
    "# print(report)"
   ]
  },
  {
   "cell_type": "code",
   "execution_count": 44,
   "id": "8cd6b0eb",
   "metadata": {},
   "outputs": [
    {
     "name": "stdout",
     "output_type": "stream",
     "text": [
      "              precision    recall  f1-score   support\n",
      "\n",
      "           0       0.85      0.98      0.91       155\n",
      "           1       0.56      0.24      0.33      1215\n",
      "           2       0.90      0.97      0.93      8559\n",
      "           3       0.60      0.18      0.27        17\n",
      "           4       0.99      1.00      0.99       805\n",
      "           5       0.00      0.00      0.00         5\n",
      "           6       1.00      0.30      0.46        10\n",
      "           7       1.00      0.89      0.94        19\n",
      "\n",
      "    accuracy                           0.89     10785\n",
      "   macro avg       0.74      0.57      0.61     10785\n",
      "weighted avg       0.86      0.89      0.87     10785\n",
      "\n"
     ]
    }
   ],
   "source": [
    "rfc1 = RandomForestClassifier(n_estimators=10, criterion='entropy', n_jobs=-1)\n",
    "rfc1.fit(X_train, y_train)\n",
    "y_pred = rfc1.predict(X_val)\n",
    "report = classification_report(y_val, y_pred)\n",
    "acc = accuracy_score(y_val, y_pred)\n",
    "model_accuracies.append(('RFC 1',acc))\n",
    "print(report)"
   ]
  },
  {
   "cell_type": "code",
   "execution_count": 45,
   "id": "e01d7d8b",
   "metadata": {},
   "outputs": [
    {
     "name": "stdout",
     "output_type": "stream",
     "text": [
      "              precision    recall  f1-score   support\n",
      "\n",
      "           0       0.85      0.97      0.90       155\n",
      "           1       0.71      0.18      0.29      1215\n",
      "           2       0.89      0.99      0.94      8559\n",
      "           3       0.80      0.24      0.36        17\n",
      "           4       1.00      1.00      1.00       805\n",
      "           5       0.00      0.00      0.00         5\n",
      "           6       1.00      0.20      0.33        10\n",
      "           7       1.00      1.00      1.00        19\n",
      "\n",
      "    accuracy                           0.89     10785\n",
      "   macro avg       0.78      0.57      0.60     10785\n",
      "weighted avg       0.88      0.89      0.87     10785\n",
      "\n"
     ]
    }
   ],
   "source": [
    "rfc2 = RandomForestClassifier(n_estimators=50, criterion='gini')\n",
    "rfc2.fit(X_train, y_train)\n",
    "y_pred = rfc2.predict(X_val)\n",
    "report = classification_report(y_val, y_pred)\n",
    "acc = accuracy_score(y_val, y_pred)\n",
    "model_accuracies.append(('RFC 2',acc))\n",
    "print(report)"
   ]
  },
  {
   "cell_type": "code",
   "execution_count": 46,
   "id": "af705e2c",
   "metadata": {},
   "outputs": [
    {
     "name": "stdout",
     "output_type": "stream",
     "text": [
      "              precision    recall  f1-score   support\n",
      "\n",
      "           0       0.87      0.96      0.91       155\n",
      "           1       0.62      0.19      0.29      1215\n",
      "           2       0.89      0.98      0.93      8559\n",
      "           3       1.00      0.29      0.45        17\n",
      "           4       0.99      1.00      1.00       805\n",
      "           5       0.00      0.00      0.00         5\n",
      "           6       1.00      0.20      0.33        10\n",
      "           7       1.00      0.95      0.97        19\n",
      "\n",
      "    accuracy                           0.89     10785\n",
      "   macro avg       0.80      0.57      0.61     10785\n",
      "weighted avg       0.87      0.89      0.87     10785\n",
      "\n"
     ]
    }
   ],
   "source": [
    "rfc3 = RandomForestClassifier(n_estimators=20, criterion='log_loss', n_jobs=-1)\n",
    "rfc3.fit(X_train, y_train)\n",
    "y_pred = rfc3.predict(X_val)\n",
    "report = classification_report(y_val, y_pred)\n",
    "acc = accuracy_score(y_val, y_pred)\n",
    "model_accuracies.append(('RFC 3',acc))\n",
    "print(report)"
   ]
  },
  {
   "cell_type": "code",
   "execution_count": 47,
   "id": "7fb8516d",
   "metadata": {},
   "outputs": [
    {
     "name": "stdout",
     "output_type": "stream",
     "text": [
      "              precision    recall  f1-score   support\n",
      "\n",
      "           0       0.94      0.99      0.96       387\n",
      "           1       0.70      0.18      0.28      2671\n",
      "           2       0.89      0.99      0.94     18984\n",
      "           3       0.78      0.23      0.36        30\n",
      "           4       0.99      1.00      1.00      1802\n",
      "           5       0.00      0.00      0.00        15\n",
      "           6       0.71      0.17      0.27        30\n",
      "           7       1.00      1.00      1.00        47\n",
      "\n",
      "    accuracy                           0.90     23966\n",
      "   macro avg       0.75      0.57      0.60     23966\n",
      "weighted avg       0.88      0.90      0.87     23966\n",
      "\n"
     ]
    }
   ],
   "source": [
    "# Using Hold-Out Validation technique, getting best accuracy on rfc1 & rfc2 model, so now proceeding with rfc2\n",
    "\n",
    "rfc4 = RandomForestClassifier(n_estimators=50, criterion='gini')\n",
    "rfc4.fit(X_train_val, y_train_val)\n",
    "y_pred = rfc4.predict(X_test)\n",
    "report = classification_report(y_test, y_pred)\n",
    "acc = accuracy_score(y_test, y_pred)\n",
    "model_accuracies.append(('RFC 4',acc))\n",
    "print(report)"
   ]
  },
  {
   "cell_type": "code",
   "execution_count": 48,
   "id": "ddc434f5",
   "metadata": {},
   "outputs": [
    {
     "data": {
      "text/plain": [
       "(0.865, 0.898)"
      ]
     },
     "execution_count": 48,
     "metadata": {},
     "output_type": "execute_result"
    },
    {
     "data": {
      "image/png": "[encoded data removed]",
      "text/plain": [
       "<Figure size 640x480 with 1 Axes>"
      ]
     },
     "metadata": {},
     "output_type": "display_data"
    }
   ],
   "source": [
    "plot = sns.barplot(x=[i[0] for i in model_accuracies],y=[i[1] for i in model_accuracies])\n",
    "plot.set_ylim(0.865,0.898)"
   ]
  },
  {
   "cell_type": "code",
   "execution_count": 49,
   "id": "22ad5f1d",
   "metadata": {},
   "outputs": [
    {
     "data": {
      "text/plain": [
       "[('RFC 1', 0.8875289754288364),\n",
       " ('RFC 2', 0.8939267501159017),\n",
       " ('RFC 3', 0.8905887807139545),\n",
       " ('RFC 4', 0.8957272803137779)]"
      ]
     },
     "execution_count": 49,
     "metadata": {},
     "output_type": "execute_result"
    }
   ],
   "source": [
    "model_accuracies"
   ]
  },
  {
   "cell_type": "markdown",
   "id": "27d82ccb",
   "metadata": {},
   "source": [
    "## Logistic Regression"
   ]
  },
  {
   "cell_type": "code",
   "execution_count": 50,
   "id": "39c8a2ab",
   "metadata": {},
   "outputs": [],
   "source": [
    "X_train, X_main_test, y_train, y_main_test = train_test_split(X_scaled, Y, test_size=0.3,random_state=2)\n",
    "X_val, X_test, y_val, y_test = train_test_split(X_main_test, y_main_test, test_size=0.5,random_state=2)"
   ]
  },
  {
   "cell_type": "code",
   "execution_count": 51,
   "id": "a61e5da0",
   "metadata": {},
   "outputs": [],
   "source": [
    "model_accuracies2 = []"
   ]
  },
  {
   "cell_type": "raw",
   "id": "19c12297",
   "metadata": {},
   "source": [
    "# GridSearchCV used Cross Validation Technique\n",
    "\n",
    "parameters = [{'solver': ['newton-cg', 'lbfgs', 'liblinear', 'sag', 'saga']},\n",
    "              {'penalty':['none', 'elasticnet', 'l1', 'l2']},\n",
    "              {'C':[0.001, 0.01, 0.1, 1, 10, 100]},\n",
    "             {'class_weight':['balanced',None]}]\n",
    "\n",
    "\n",
    "\n",
    "best_log = GridSearchCV(estimator = LogisticRegression(random_state=0),  \n",
    "                           param_grid = parameters,\n",
    "                           scoring = 'accuracy',\n",
    "                           cv = 5,\n",
    "                           verbose=2)\n",
    "\n",
    "\n",
    "best_log.fit(X_train, y_train)"
   ]
  },
  {
   "cell_type": "raw",
   "id": "52507c8a",
   "metadata": {},
   "source": [
    "best_log.best_estimator_\n",
    "\n",
    "best_log.best_params_"
   ]
  },
  {
   "cell_type": "raw",
   "id": "fbd24d7c",
   "metadata": {},
   "source": [
    "y_pred = best_log.predict(X_main_test)\n",
    "report = classification_report(y_main_test, y_pred)\n",
    "acc = accuracy_score(y_main_test, y_pred)\n",
    "model_accuracies2.append(['LogReg#1',acc])\n",
    "print(report)"
   ]
  },
  {
   "cell_type": "code",
   "execution_count": 52,
   "id": "8512067f",
   "metadata": {},
   "outputs": [
    {
     "name": "stdout",
     "output_type": "stream",
     "text": [
      "              precision    recall  f1-score   support\n",
      "\n",
      "           0       0.87      0.82      0.84       465\n",
      "           1       0.59      0.05      0.09      3198\n",
      "           2       0.87      0.99      0.93     22791\n",
      "           3       0.00      0.00      0.00        36\n",
      "           4       0.95      0.95      0.95      2158\n",
      "           5       0.00      0.00      0.00        20\n",
      "           6       0.00      0.00      0.00        36\n",
      "           7       1.00      0.32      0.49        56\n",
      "\n",
      "    accuracy                           0.88     28760\n",
      "   macro avg       0.54      0.39      0.41     28760\n",
      "weighted avg       0.85      0.88      0.83     28760\n",
      "\n"
     ]
    }
   ],
   "source": [
    "lr1 = LogisticRegression(C=0.1,max_iter=1000)\n",
    "lr1.fit(X_train, y_train)\n",
    "y_pred=lr1.predict(X_main_test)\n",
    "report = classification_report(y_main_test, y_pred)\n",
    "acc = accuracy_score(y_main_test, y_pred)\n",
    "model_accuracies2.append(['LogReg#2',acc])\n",
    "print(report)"
   ]
  },
  {
   "cell_type": "code",
   "execution_count": 53,
   "id": "c720474c",
   "metadata": {},
   "outputs": [
    {
     "name": "stdout",
     "output_type": "stream",
     "text": [
      "              precision    recall  f1-score   support\n",
      "\n",
      "           0       0.87      0.82      0.84       465\n",
      "           1       0.59      0.05      0.09      3198\n",
      "           2       0.87      0.99      0.93     22791\n",
      "           3       0.00      0.00      0.00        36\n",
      "           4       0.95      0.95      0.95      2158\n",
      "           5       0.00      0.00      0.00        20\n",
      "           6       0.00      0.00      0.00        36\n",
      "           7       1.00      0.32      0.49        56\n",
      "\n",
      "    accuracy                           0.88     28760\n",
      "   macro avg       0.54      0.39      0.41     28760\n",
      "weighted avg       0.85      0.88      0.83     28760\n",
      "\n"
     ]
    }
   ],
   "source": [
    "lr2 = LogisticRegression(C=0.1,max_iter=1000)\n",
    "lr2.fit(X_train, y_train)\n",
    "y_pred=lr2.predict(X_main_test)\n",
    "report = classification_report(y_main_test, y_pred)\n",
    "acc = accuracy_score(y_main_test, y_pred)\n",
    "model_accuracies2.append(['LogReg#3',acc])\n",
    "print(report)"
   ]
  },
  {
   "cell_type": "code",
   "execution_count": 54,
   "id": "a0c9e33b",
   "metadata": {},
   "outputs": [
    {
     "data": {
      "text/plain": [
       "(0.86, 0.8801)"
      ]
     },
     "execution_count": 54,
     "metadata": {},
     "output_type": "execute_result"
    },
    {
     "data": {
      "image/png": "[encoded data removed]",
      "text/plain": [
       "<Figure size 640x480 with 1 Axes>"
      ]
     },
     "metadata": {},
     "output_type": "display_data"
    }
   ],
   "source": [
    "plot = sns.barplot(x=[i[0] for i in model_accuracies2],y=[i[1] for i in model_accuracies2])\n",
    "plot.set_ylim(0.86,0.8801)"
   ]
  },
  {
   "cell_type": "code",
   "execution_count": null,
   "id": "a0c688eb",
   "metadata": {},
   "outputs": [],
   "source": []
  },
  {
   "cell_type": "markdown",
   "id": "e02e1a05",
   "metadata": {},
   "source": [
    "## ANN"
   ]
  },
  {
   "cell_type": "code",
   "execution_count": 55,
   "id": "55cb02ac",
   "metadata": {},
   "outputs": [],
   "source": [
    "X_train, X_main_test, y_train, y_main_test = train_test_split(X_scaled, Y, test_size=0.3,random_state=2)\n",
    "X_val, X_test, y_val, y_test = train_test_split(X_main_test, y_main_test, test_size=0.5,random_state=2)"
   ]
  },
  {
   "cell_type": "code",
   "execution_count": 56,
   "id": "8b393a63",
   "metadata": {},
   "outputs": [],
   "source": [
    "# X_train.shape"
   ]
  },
  {
   "cell_type": "code",
   "execution_count": 57,
   "id": "bbab5589",
   "metadata": {},
   "outputs": [],
   "source": [
    "model_accuracies3 = []\n",
    "import tensorflow as tf"
   ]
  },
  {
   "cell_type": "code",
   "execution_count": 58,
   "id": "430b982d",
   "metadata": {},
   "outputs": [],
   "source": [
    "y_train = tf.one_hot(y_train,8).numpy()\n",
    "y_test = tf.one_hot(y_test,8).numpy()\n",
    "y_val = tf.one_hot(y_val,8).numpy()\n",
    "y_test = y_test.reshape(y_test.shape[0],8)\n",
    "y_train = y_train.reshape(y_train.shape[0],8)\n",
    "y_val = y_val.reshape(y_val.shape[0],8)"
   ]
  },
  {
   "cell_type": "code",
   "execution_count": 59,
   "id": "0ee24b12",
   "metadata": {},
   "outputs": [],
   "source": [
    "# ann1 = tf.keras.Sequential()\n",
    "# ann1.add(tf.keras.layers.Dense(20,activation='relu',input_shape=[7]))\n",
    "# ann1.add(tf.keras.layers.Dense(10,activation='relu'))\n",
    "# ann1.add(tf.keras.layers.Dense(8,activation='softmax'))"
   ]
  },
  {
   "cell_type": "code",
   "execution_count": 60,
   "id": "04a4f9e6",
   "metadata": {},
   "outputs": [],
   "source": [
    "ann1 = tf.keras.models.load_model('save_ann1')"
   ]
  },
  {
   "cell_type": "code",
   "execution_count": 61,
   "id": "6137ffcf",
   "metadata": {},
   "outputs": [],
   "source": [
    "ann1.compile(loss=tf.keras.losses.categorical_crossentropy,metrics=['accuracy'])"
   ]
  },
  {
   "cell_type": "raw",
   "id": "bbc0fd04",
   "metadata": {},
   "source": [
    "history_ann1 = ann1.fit(X_train,y_train,validation_data=(X_val,y_val),epochs=100)"
   ]
  },
  {
   "cell_type": "raw",
   "id": "169dbfab",
   "metadata": {},
   "source": [
    "pd.DataFrame(history_ann1.history).plot()"
   ]
  },
  {
   "cell_type": "code",
   "execution_count": 62,
   "id": "fbb778ee",
   "metadata": {},
   "outputs": [
    {
     "name": "stdout",
     "output_type": "stream",
     "text": [
      "450/450 [==============================] - 1s 2ms/step - loss: 0.3559 - accuracy: 0.8796\n"
     ]
    }
   ],
   "source": [
    "model_accuracies3.append([\"ANN 1\",ann1.evaluate(X_test,y_test)[1]])"
   ]
  },
  {
   "cell_type": "code",
   "execution_count": 63,
   "id": "8c232a6a",
   "metadata": {},
   "outputs": [
    {
     "name": "stdout",
     "output_type": "stream",
     "text": [
      "Model: \"sequential_1\"\n",
      "_________________________________________________________________\n",
      " Layer (type)                Output Shape              Param #   \n",
      "=================================================================\n",
      " dense_3 (Dense)             (None, 20)                160       \n",
      "                                                                 \n",
      " dense_4 (Dense)             (None, 10)                210       \n",
      "                                                                 \n",
      " dense_5 (Dense)             (None, 8)                 88        \n",
      "                                                                 \n",
      "=================================================================\n",
      "Total params: 458 (1.79 KB)\n",
      "Trainable params: 458 (1.79 KB)\n",
      "Non-trainable params: 0 (0.00 Byte)\n",
      "_________________________________________________________________\n"
     ]
    }
   ],
   "source": [
    "ann1.summary()"
   ]
  },
  {
   "cell_type": "code",
   "execution_count": 64,
   "id": "a617975e",
   "metadata": {},
   "outputs": [
    {
     "name": "stdout",
     "output_type": "stream",
     "text": [
      "INFO:tensorflow:Assets written to: save_ann1\\assets\n"
     ]
    },
    {
     "name": "stderr",
     "output_type": "stream",
     "text": [
      "INFO:tensorflow:Assets written to: save_ann1\\assets\n"
     ]
    }
   ],
   "source": [
    "if os.path.isfile('save_ann1') is False:\n",
    "    ann1.save('save_ann1')"
   ]
  },
  {
   "cell_type": "code",
   "execution_count": 65,
   "id": "a836ec6a",
   "metadata": {},
   "outputs": [],
   "source": [
    "# ann2 = tf.keras.Sequential()\n",
    "# ann2.add(tf.keras.layers.InputLayer(input_shape=[7]))\n",
    "# ann2.add(tf.keras.layers.Dense(20,activation='relu'))\n",
    "# ann2.add(tf.keras.layers.Dense(15,activation='relu'))\n",
    "# ann2.add(tf.keras.layers.Dense(8,activation='softmax'))"
   ]
  },
  {
   "cell_type": "code",
   "execution_count": 66,
   "id": "baacc417",
   "metadata": {},
   "outputs": [],
   "source": [
    "ann2 = tf.keras.models.load_model('save_ann2')"
   ]
  },
  {
   "cell_type": "code",
   "execution_count": 67,
   "id": "e70aac51",
   "metadata": {},
   "outputs": [],
   "source": [
    "ann2.compile(loss=tf.keras.losses.categorical_crossentropy,\n",
    "             metrics=['accuracy'],optimizer='Adam')"
   ]
  },
  {
   "cell_type": "code",
   "execution_count": 68,
   "id": "c28b03b5",
   "metadata": {},
   "outputs": [],
   "source": [
    "# history_ann2 = ann2.fit(X_train,y_train,validation_data=(X_val,y_val),epochs=100)"
   ]
  },
  {
   "cell_type": "raw",
   "id": "fee28e90",
   "metadata": {},
   "source": [
    "pd.DataFrame(history_ann2.history).plot()"
   ]
  },
  {
   "cell_type": "code",
   "execution_count": 69,
   "id": "b9914624",
   "metadata": {},
   "outputs": [
    {
     "name": "stdout",
     "output_type": "stream",
     "text": [
      "Model: \"sequential_1\"\n",
      "_________________________________________________________________\n",
      " Layer (type)                Output Shape              Param #   \n",
      "=================================================================\n",
      " dense_3 (Dense)             (None, 20)                160       \n",
      "                                                                 \n",
      " dense_4 (Dense)             (None, 10)                210       \n",
      "                                                                 \n",
      " dense_5 (Dense)             (None, 8)                 88        \n",
      "                                                                 \n",
      "=================================================================\n",
      "Total params: 458 (1.79 KB)\n",
      "Trainable params: 458 (1.79 KB)\n",
      "Non-trainable params: 0 (0.00 Byte)\n",
      "_________________________________________________________________\n"
     ]
    }
   ],
   "source": [
    "ann2.summary()"
   ]
  },
  {
   "cell_type": "code",
   "execution_count": 70,
   "id": "8104a569",
   "metadata": {},
   "outputs": [
    {
     "name": "stdout",
     "output_type": "stream",
     "text": [
      "450/450 [==============================] - 1s 2ms/step - loss: 0.3559 - accuracy: 0.8796\n"
     ]
    }
   ],
   "source": [
    "model_accuracies3.append([\"ANN 2\",ann2.evaluate(X_test,y_test)[1]])"
   ]
  },
  {
   "cell_type": "code",
   "execution_count": 71,
   "id": "6de5034e",
   "metadata": {},
   "outputs": [
    {
     "name": "stdout",
     "output_type": "stream",
     "text": [
      "INFO:tensorflow:Assets written to: save_ann2\\assets\n"
     ]
    },
    {
     "name": "stderr",
     "output_type": "stream",
     "text": [
      "INFO:tensorflow:Assets written to: save_ann2\\assets\n"
     ]
    }
   ],
   "source": [
    "if os.path.isfile('save_ann2') is False:\n",
    "    ann2.save('save_ann2')"
   ]
  },
  {
   "cell_type": "code",
   "execution_count": 72,
   "id": "8636ac44",
   "metadata": {},
   "outputs": [],
   "source": [
    "inp = tf.keras.layers.Input(shape=[7])\n",
    "hid1 = tf.keras.layers.Dense(10,activation='relu')(inp)\n",
    "hid2 = tf.keras.layers.Dense(8,activation='relu')(hid1)\n",
    "add = tf.keras.layers.concatenate([inp,hid2])\n",
    "out = tf.keras.layers.Dense(8,activation='softmax')(add)\n",
    "ann3 = tf.keras.models.Model(inputs=inp,outputs=out)\n",
    "\n",
    "\n",
    "\n",
    "# ann2 = tf.keras.Sequential()\n",
    "# ann2.add(tf.keras.layers.InputLayer(input_shape=[7]))\n",
    "# ann2.add(tf.keras.layers.Dense(20,activation='relu'))\n",
    "# ann2.add(tf.keras.layers.Dense(15,activation='relu'))\n",
    "# ann2.add(tf.keras.layers.Dense(8,activation='softmax'))"
   ]
  },
  {
   "cell_type": "code",
   "execution_count": 73,
   "id": "059b4128",
   "metadata": {},
   "outputs": [],
   "source": [
    "ann3 = tf.keras.models.load_model('save_ann3')"
   ]
  },
  {
   "cell_type": "code",
   "execution_count": 74,
   "id": "a3cb9e49",
   "metadata": {},
   "outputs": [],
   "source": [
    "ann3.compile(loss=tf.keras.losses.categorical_crossentropy,\n",
    "             metrics=['accuracy'],optimizer='Adam')"
   ]
  },
  {
   "cell_type": "raw",
   "id": "199a83d0",
   "metadata": {},
   "source": [
    "history_ann3 = ann3.fit(X_train,y_train,validation_data=(X_val,y_val),epochs=60)"
   ]
  },
  {
   "cell_type": "code",
   "execution_count": 75,
   "id": "aab6a4f7",
   "metadata": {},
   "outputs": [
    {
     "name": "stdout",
     "output_type": "stream",
     "text": [
      "Model: \"model_5\"\n",
      "__________________________________________________________________________________________________\n",
      " Layer (type)                Output Shape                 Param #   Connected to                  \n",
      "==================================================================================================\n",
      " input_9 (InputLayer)        [(None, 7)]                  0         []                            \n",
      "                                                                                                  \n",
      " dense_29 (Dense)            (None, 10)                   80        ['input_9[0][0]']             \n",
      "                                                                                                  \n",
      " dense_30 (Dense)            (None, 8)                    88        ['dense_29[0][0]']            \n",
      "                                                                                                  \n",
      " concatenate_3 (Concatenate  (None, 15)                   0         ['input_9[0][0]',             \n",
      " )                                                                   'dense_30[0][0]']            \n",
      "                                                                                                  \n",
      " dense_31 (Dense)            (None, 8)                    128       ['concatenate_3[0][0]']       \n",
      "                                                                                                  \n",
      "==================================================================================================\n",
      "Total params: 296 (1.16 KB)\n",
      "Trainable params: 296 (1.16 KB)\n",
      "Non-trainable params: 0 (0.00 Byte)\n",
      "__________________________________________________________________________________________________\n"
     ]
    }
   ],
   "source": [
    "ann3.summary()"
   ]
  },
  {
   "cell_type": "raw",
   "id": "b0330416",
   "metadata": {},
   "source": [
    "pd.DataFrame(history_ann3.history).plot()"
   ]
  },
  {
   "cell_type": "code",
   "execution_count": 76,
   "id": "14de400f",
   "metadata": {},
   "outputs": [
    {
     "name": "stdout",
     "output_type": "stream",
     "text": [
      "450/450 [==============================] - 1s 2ms/step - loss: 0.3287 - accuracy: 0.8821\n"
     ]
    }
   ],
   "source": [
    "model_accuracies3.append(['ANN 3',ann3.evaluate(X_test,y_test)[1]])"
   ]
  },
  {
   "cell_type": "code",
   "execution_count": 77,
   "id": "ab13b1c1",
   "metadata": {},
   "outputs": [
    {
     "name": "stdout",
     "output_type": "stream",
     "text": [
      "INFO:tensorflow:Assets written to: save_ann3\\assets\n"
     ]
    },
    {
     "name": "stderr",
     "output_type": "stream",
     "text": [
      "INFO:tensorflow:Assets written to: save_ann3\\assets\n"
     ]
    }
   ],
   "source": [
    "if os.path.isfile('save_ann3') is False:\n",
    "    ann3.save('save_ann3')"
   ]
  },
  {
   "cell_type": "raw",
   "id": "7dcc25b1",
   "metadata": {},
   "source": [
    "ann3.predict()"
   ]
  },
  {
   "cell_type": "code",
   "execution_count": 78,
   "id": "c4f2c354",
   "metadata": {},
   "outputs": [
    {
     "data": {
      "text/plain": [
       "(0.86, 0.885)"
      ]
     },
     "execution_count": 78,
     "metadata": {},
     "output_type": "execute_result"
    },
    {
     "data": {
      "image/png": "[encoded data removed]",
      "text/plain": [
       "<Figure size 640x480 with 1 Axes>"
      ]
     },
     "metadata": {},
     "output_type": "display_data"
    }
   ],
   "source": [
    "plot = sns.barplot(x=[i[0] for i in model_accuracies3],y=[i[1] for i in model_accuracies3])\n",
    "plot.set_ylim(0.86,0.885)"
   ]
  },
  {
   "cell_type": "code",
   "execution_count": 90,
   "id": "8e3e14ea",
   "metadata": {},
   "outputs": [
    {
     "name": "stdout",
     "output_type": "stream",
     "text": [
      "Test Accuracies:\n",
      "Models            || Accuracy    \n",
      "=====================================\n",
      "RFC 4             | 0.8957272803137779\n",
      "RFC 2             | 0.8939267501159017\n",
      "RFC 3             | 0.8905887807139545\n",
      "RFC 1             | 0.8875289754288364\n",
      "ANN 3             | 0.8821279406547546\n",
      "ANN 1             | 0.8795549273490906\n",
      "ANN 2             | 0.8795549273490906\n",
      "LogReg#2          | 0.8774687065368567\n",
      "LogReg#3          | 0.8774687065368567\n"
     ]
    }
   ],
   "source": [
    "all_models = model_accuracies3 + model_accuracies2 + model_accuracies\n",
    "all_models.sort(reverse=True,key = lambda x:x[1])\n",
    "print('Test Accuracies:')\n",
    "print('Models            || Accuracy    ')\n",
    "print('=====================================')\n",
    "for i in range(len(all_models)):\n",
    "    print(\"{:<18}| {:<6}\".format(all_models[i][0],all_models[i][1]))"
   ]
  },
  {
   "cell_type": "code",
   "execution_count": 80,
   "id": "b8eecb51",
   "metadata": {},
   "outputs": [
    {
     "data": {
      "text/plain": [
       "[Text(0, 0, 'RFC 4'),\n",
       " Text(1, 0, 'RFC 2'),\n",
       " Text(2, 0, 'RFC 3'),\n",
       " Text(3, 0, 'RFC 1'),\n",
       " Text(4, 0, 'ANN 3'),\n",
       " Text(5, 0, 'ANN 1'),\n",
       " Text(6, 0, 'ANN 2'),\n",
       " Text(7, 0, 'LogReg#2'),\n",
       " Text(8, 0, 'LogReg#3')]"
      ]
     },
     "execution_count": 80,
     "metadata": {},
     "output_type": "execute_result"
    },
    {
     "data": {
      "image/png": "[encoded data removed]",
      "text/plain": [
       "<Figure size 640x480 with 1 Axes>"
      ]
     },
     "metadata": {},
     "output_type": "display_data"
    }
   ],
   "source": [
    "plot = sns.barplot(x=[i[0] for i in all_models],y=[i[1] for i in all_models])\n",
    "plot.set_ylim(0.86,0.899)\n",
    "plot.set_xticklabels(plot.get_xticklabels(), rotation=90)"
   ]
  },
  {
   "cell_type": "code",
   "execution_count": 81,
   "id": "c386568b",
   "metadata": {},
   "outputs": [],
   "source": [
    "# labels={0:'Breezy',1:'Clear',2:'Cloudy',3:'Dry',4:'Foggy',5:'Humid',6:'Rain',7:'Windy'}\n",
    "# model_labels={'Logistic Model 1':lr1,'Logistic Model 2':lr2,'Logistic Model 3':lr3,'KNN Model 1':classifier1,'KNN Model 2':classifier2,'KNN Model 3':classifier3,'ANN Model 1':ann1,'ANN Model 2':ann2,'ANN Model 3':ann3}"
   ]
  },
  {
   "cell_type": "markdown",
   "id": "523e9623",
   "metadata": {},
   "source": [
    "# User Input"
   ]
  },
  {
   "cell_type": "code",
   "execution_count": 82,
   "id": "16e94fd6",
   "metadata": {},
   "outputs": [],
   "source": [
    "# X.describe()"
   ]
  },
  {
   "cell_type": "code",
   "execution_count": 83,
   "id": "80afcfd7",
   "metadata": {},
   "outputs": [],
   "source": [
    "def take_data():\n",
    "    percip = int(input('Enter Percip type (Ranin=>0, Snow=>1)'))\n",
    "    temp = float(input('Enter Temperature: '))\n",
    "    humidity = float(input('Enter Humidity: '))\n",
    "    wind_speed = float(input('Enter Wind Speed (km/h): '))\n",
    "    wind_bearing = float(input('Enter Wind Bearing (degrees): '))\n",
    "    visibility = float(input('Enter Visibility (km): '))\n",
    "    pressure = float(input('Pressure (millibars): '))\n",
    "    input_dict = {'Precip Type':[percip], 'Temperature (C)': [temp], 'Humidity': [humidity],\n",
    "                  'Wind Speed (km/h)': [wind_speed], 'Wind Bearing (degrees)': [wind_bearing], \n",
    "                  'Visibility (km)': [visibility], 'Pressure (millibars)': [pressure]}\n",
    "    return pd.DataFrame(input_dict)"
   ]
  },
  {
   "cell_type": "code",
   "execution_count": 84,
   "id": "c9888ad8",
   "metadata": {},
   "outputs": [],
   "source": [
    "def scale_data(input_df):\n",
    "    numerical_features = ['Precip Type', 'Temperature (C)','Humidity', 'Wind Speed (km/h)',\n",
    "                          'Wind Bearing (degrees)', 'Visibility (km)', \n",
    "                          'Pressure (millibars)']\n",
    "#     print(input_df[numerical_features])\n",
    "    input_df[numerical_features] = scaler.transform(input_df[numerical_features])\n",
    "    return input_df"
   ]
  },
  {
   "cell_type": "code",
   "execution_count": 85,
   "id": "3e422d75",
   "metadata": {},
   "outputs": [],
   "source": [
    "def predict_output(input_df, choice = 1):\n",
    "    if choice == 1:\n",
    "        return label_encoder.inverse_transform([rfc4.predict(input_df)])[0]  # For Random Forest        \n",
    "    if choice == 2:\n",
    "        return label_encoder.inverse_transform([lr1.predict(input_df)])[0]   #For Logistic Regression\n",
    "    if choice == 3:\n",
    "#         return label_encoder.inverse_transform([ann3.predict(input_df)])  # For ANN\n",
    "        pred = ann3.predict(input_df)\n",
    "        pred1= pred[0]\n",
    "        pred1=list(pred1)\n",
    "#         print(pred1)\n",
    "        maximum=pred1[0]\n",
    "        index=0\n",
    "        for i in range(len(pred1)):\n",
    "            if pred1[i]>maximum:\n",
    "                maximum = pred1[i]\n",
    "                index=i\n",
    "\n",
    "#         pred1=maximum\n",
    "        return label_encoder.inverse_transform([index])[0]\n"
   ]
  },
  {
   "cell_type": "code",
   "execution_count": 86,
   "id": "fbce2bac",
   "metadata": {},
   "outputs": [
    {
     "name": "stdout",
     "output_type": "stream",
     "text": [
      "Welcome to Weather Predictor 🙂\n",
      "Select One of given options:\n",
      " 0. Predict \n",
      " 1. Exit\n",
      "1\n",
      "You have exited !!!\n"
     ]
    }
   ],
   "source": [
    "print(\"Welcome to Weather Predictor 🙂\")\n",
    "print(\"Select One of given options:\")\n",
    "while True:\n",
    "    choice = int(input(''' 0. Predict \\n 1. Exit\\n'''))\n",
    "    if choice == 0:\n",
    "        input_df = take_data()\n",
    "        input_df = scale_data(input_df)\n",
    "#         print(input_df)\n",
    "        print()\n",
    "        print('\\nRandom Forest:')\n",
    "        print(predict_output(input_df, 1))\n",
    "        print('\\nLogistic Regression:')\n",
    "        print(predict_output(input_df, 2))\n",
    "        print('\\nANN:')\n",
    "        print(predict_output(input_df, 3))\n",
    "        \n",
    "    elif choice == 1:\n",
    "        print('You have exited !!!')\n",
    "        break"
   ]
  },
  {
   "cell_type": "code",
   "execution_count": 87,
   "id": "a6d6cfd1",
   "metadata": {},
   "outputs": [],
   "source": [
    "# df[df['Visibility (km)'] >= 16].head()"
   ]
  },
  {
   "cell_type": "code",
   "execution_count": 91,
   "id": "086a2ee1",
   "metadata": {},
   "outputs": [
    {
     "data": {
      "application/vnd.jupyter.widget-view+json": {
       "model_id": "a42d30bc3c404e5f9de232da0fc6f31d",
       "version_major": 2,
       "version_minor": 0
      },
      "text/plain": [
       "VBox(children=(IntSlider(value=0, description='Precip Type', max=1), FloatSlider(value=0.0, description='Tempe…"
      ]
     },
     "metadata": {},
     "output_type": "display_data"
    },
    {
     "data": {
      "application/vnd.jupyter.widget-view+json": {
       "model_id": "253136c43ed245b0b848dba12a01ecac",
       "version_major": 2,
       "version_minor": 0
      },
      "text/plain": [
       "Button(description='Get Predictions', style=ButtonStyle())"
      ]
     },
     "metadata": {},
     "output_type": "display_data"
    },
    {
     "data": {
      "application/vnd.jupyter.widget-view+json": {
       "model_id": "884c7a713c6f4f20a69be9e69ee75dfd",
       "version_major": 2,
       "version_minor": 0
      },
      "text/plain": [
       "Output()"
      ]
     },
     "metadata": {},
     "output_type": "display_data"
    },
    {
     "name": "stdout",
     "output_type": "stream",
     "text": [
      "1/1 [==============================] - 0s 34ms/step\n",
      "Random Forest Prediction: Cloudy\n",
      "Logistic Regression Prediction: Cloudy\n",
      "ANN Prediction: Cloudy\n"
     ]
    }
   ],
   "source": [
    "import ipywidgets as widgets\n",
    "from IPython.display import display\n",
    "\n",
    "# Function to get predictions from three models\n",
    "def get_predictions(button):\n",
    "#     print('I am running')\n",
    "    precip_type = int(precip_type_input.value)\n",
    "    temperature = temperature_input.value\n",
    "    humidity = humidity_input.value\n",
    "    wind_speed = wind_speed_input.value\n",
    "    wind_bearing = wind_bearing_input.value\n",
    "    visibility = visibility_input.value\n",
    "    pressure = pressure_input.value\n",
    "    \n",
    "    input_dict = {'Precip Type':[precip_type], 'Temperature (C)': [temperature], 'Humidity': [humidity],\n",
    "                  'Wind Speed (km/h)': [wind_speed], 'Wind Bearing (degrees)': [wind_bearing], \n",
    "                  'Visibility (km)': [visibility], 'Pressure (millibars)': [pressure]}\n",
    "    input_df = pd.DataFrame(input_dict)\n",
    "    \n",
    "    input_scaled = scale_data(input_df)\n",
    "    \n",
    "\n",
    "    # Replace these lines with actual model inference code\n",
    "    # Model 1 prediction\n",
    "    prediction_1 = predict_output(input_scaled, 1)\n",
    "    # Model 2 prediction\n",
    "    prediction_2 = predict_output(input_scaled, 2)\n",
    "    # Model 3 prediction\n",
    "    prediction_3 = predict_output(input_scaled, 3)\n",
    "\n",
    "    output_text.value = f\"Random Forest Prediction: {prediction_1}\\n\" \\\n",
    "                       f\"Logistic Regression Prediction: {prediction_2}\\n\" \\\n",
    "                       f\"ANN Prediction: {prediction_3}\"\n",
    "    print(output_text.value)\n",
    "\n",
    "# Create input feature widgets\n",
    "precip_type_input = widgets.IntSlider(min=0, max=1, description='Precip Type')\n",
    "temperature_input = widgets.FloatSlider(min=-21, max=39, description='Temperature (C)')\n",
    "humidity_input = widgets.FloatSlider(min=0, max=1, description='Humidity')\n",
    "wind_speed_input = widgets.FloatSlider(min=0, max=63, description='Wind Speed (km/h)')\n",
    "wind_bearing_input = widgets.FloatSlider(min=0, max=359, description='Wind Bearing (degrees)')\n",
    "visibility_input = widgets.FloatSlider(min=0, max=16, description='Visibility (km)')\n",
    "pressure_input = widgets.FloatSlider(min=1000, max=1046, description='Pressure (millibars)')\n",
    "\n",
    "# Add a button to get predictions\n",
    "predict_button = widgets.Button(description='Get Predictions')\n",
    "predict_button.on_click(get_predictions)\n",
    "\n",
    "# Create an output widget\n",
    "output_text = widgets.Output()\n",
    "\n",
    "# Display the widgets\n",
    "input_widgets = widgets.VBox([\n",
    "    precip_type_input, temperature_input, humidity_input, wind_speed_input,\n",
    "    wind_bearing_input, visibility_input, pressure_input\n",
    "])\n",
    "display(input_widgets, predict_button, output_text)\n"
   ]
  },
  {
   "cell_type": "code",
   "execution_count": null,
   "id": "2bb80693",
   "metadata": {},
   "outputs": [],
   "source": []
  }
 ],
 "metadata": {
  "kernelspec": {
   "display_name": "Python 3 (ipykernel)",
   "language": "python",
   "name": "python3"
  },
  "language_info": {
   "codemirror_mode": {
    "name": "ipython",
    "version": 3
   },
   "file_extension": ".py",
   "mimetype": "text/x-python",
   "name": "python",
   "nbconvert_exporter": "python",
   "pygments_lexer": "ipython3",
   "version": "3.10.9"
  }
 },
 "nbformat": 4,
 "nbformat_minor": 5
}
